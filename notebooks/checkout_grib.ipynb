{
 "cells": [
  {
   "cell_type": "code",
   "execution_count": 1,
   "id": "746031ad",
   "metadata": {},
   "outputs": [],
   "source": [
    "a = (5,6,7)"
   ]
  },
  {
   "cell_type": "code",
   "execution_count": 3,
   "id": "08e07045",
   "metadata": {},
   "outputs": [],
   "source": [
    "def test_fn(a,b,c):\n",
    "    print (a,b,c)"
   ]
  },
  {
   "cell_type": "code",
   "execution_count": 4,
   "id": "0ba16bba",
   "metadata": {},
   "outputs": [
    {
     "name": "stdout",
     "output_type": "stream",
     "text": [
      "5 6 7\n"
     ]
    }
   ],
   "source": [
    "test_fn(*a)"
   ]
  },
  {
   "cell_type": "code",
   "execution_count": 74,
   "id": "7c982ea5",
   "metadata": {},
   "outputs": [],
   "source": [
    "import glob\n",
    "from itertools import product"
   ]
  },
  {
   "cell_type": "code",
   "execution_count": 78,
   "id": "b2b945e2",
   "metadata": {},
   "outputs": [
    {
     "name": "stdout",
     "output_type": "stream",
     "text": [
      "3 r\n",
      "3 d\n",
      "3 g\n",
      "4 r\n",
      "4 d\n",
      "4 g\n",
      "5 r\n",
      "5 d\n",
      "5 g\n"
     ]
    }
   ],
   "source": [
    "for aa, gg in [m for m in product([3,4,5],['r','d','g'])]:\n",
    "    print (aa,gg)"
   ]
  },
  {
   "cell_type": "code",
   "execution_count": 2,
   "id": "2b67480e",
   "metadata": {},
   "outputs": [],
   "source": [
    "import xarray as xr"
   ]
  },
  {
   "cell_type": "code",
   "execution_count": 17,
   "id": "34ec60a5",
   "metadata": {},
   "outputs": [],
   "source": [
    "import numpy as  np"
   ]
  },
  {
   "cell_type": "code",
   "execution_count": 23,
   "id": "d994f9c4",
   "metadata": {},
   "outputs": [],
   "source": [
    "import dask.array"
   ]
  },
  {
   "cell_type": "code",
   "execution_count": 25,
   "id": "9adaf880",
   "metadata": {},
   "outputs": [
    {
     "name": "stderr",
     "output_type": "stream",
     "text": [
      "Ignoring index file '2010-jan.grib.923a8.idx' older than GRIB file\n"
     ]
    }
   ],
   "source": [
    "ds = xr.open_dataset('2010-jan.grib', chunks = {'longitude':10,'latitude':10,'steps':61,'time':1461}, engine='cfgrib')"
   ]
  },
  {
   "cell_type": "code",
   "execution_count": 6,
   "id": "940bfa5b",
   "metadata": {},
   "outputs": [],
   "source": [
    "import numpy as np"
   ]
  },
  {
   "cell_type": "code",
   "execution_count": 7,
   "id": "d938c947",
   "metadata": {},
   "outputs": [
    {
     "data": {
      "text/plain": [
       "0.7688380611818286"
      ]
     },
     "execution_count": 7,
     "metadata": {},
     "output_type": "execute_result"
    }
   ],
   "source": [
    "np.random.rand()"
   ]
  },
  {
   "cell_type": "code",
   "execution_count": 5,
   "id": "f88110bf",
   "metadata": {},
   "outputs": [
    {
     "ename": "NameError",
     "evalue": "name 'np' is not defined",
     "output_type": "error",
     "traceback": [
      "\u001b[0;31m---------------------------------------------------------------------------\u001b[0m",
      "\u001b[0;31mNameError\u001b[0m                                 Traceback (most recent call last)",
      "\u001b[0;32m/tmp/ipykernel_3655/1005488024.py\u001b[0m in \u001b[0;36m<module>\u001b[0;34m\u001b[0m\n\u001b[0;32m----> 1\u001b[0;31m \u001b[0mnp\u001b[0m\u001b[0;34m.\u001b[0m\u001b[0mround\u001b[0m\u001b[0;34m(\u001b[0m\u001b[0mnp\u001b[0m\u001b[0;34m.\u001b[0m\u001b[0mrandom\u001b[0m\u001b[0;34m.\u001b[0m\u001b[0mrand\u001b[0m\u001b[0;34m(\u001b[0m\u001b[0;34m)\u001b[0m\u001b[0;34m)\u001b[0m\u001b[0;34m\u001b[0m\u001b[0;34m\u001b[0m\u001b[0m\n\u001b[0m",
      "\u001b[0;31mNameError\u001b[0m: name 'np' is not defined"
     ]
    }
   ],
   "source": [
    "np.round(np.random.rand())"
   ]
  },
  {
   "cell_type": "code",
   "execution_count": 15,
   "id": "499cbe18",
   "metadata": {},
   "outputs": [],
   "source": [
    "def baseround(x, base):\n",
    "    return base * np.round(x/base)\n",
    "def basefloor(x, base):\n",
    "    return base * np.floor(x/base)\n",
    "def baseceil(x, base):\n",
    "    return base * np.ceil(x/base)"
   ]
  },
  {
   "cell_type": "code",
   "execution_count": 19,
   "id": "c2dbfbf8",
   "metadata": {},
   "outputs": [
    {
     "data": {
      "text/plain": [
       "0.21666666666666667"
      ]
     },
     "execution_count": 19,
     "metadata": {},
     "output_type": "execute_result"
    }
   ],
   "source": [
    "1.3/6"
   ]
  },
  {
   "cell_type": "code",
   "execution_count": 63,
   "id": "a89ee956",
   "metadata": {},
   "outputs": [],
   "source": [
    "test_geom = \"\"\"\n",
    "{\n",
    "        \"type\": \"Polygon\",\n",
    "        \"coordinates\": [\n",
    "          [\n",
    "            [\n",
    "              78.22265625,\n",
    "              19.81839009384496\n",
    "            ],\n",
    "            [\n",
    "              76.08032226562499,\n",
    "              19.828725387681168\n",
    "            ],\n",
    "            [\n",
    "              73.839111328125,\n",
    "              19.518375478601566\n",
    "            ],\n",
    "            [\n",
    "              74.64111328125,\n",
    "              18.916679786648565\n",
    "            ],\n",
    "            [\n",
    "              76.102294921875,\n",
    "              18.95824648598139\n",
    "            ],\n",
    "            [\n",
    "              76.146240234375,\n",
    "              17.434510551522894\n",
    "            ],\n",
    "            [\n",
    "              76.409912109375,\n",
    "              17.329664329425057\n",
    "            ],\n",
    "            [\n",
    "              76.61865234374999,\n",
    "              19.01019029439606\n",
    "            ],\n",
    "            [\n",
    "              77.16796875,\n",
    "              19.072501451715087\n",
    "            ],\n",
    "            [\n",
    "              76.937255859375,\n",
    "              19.559790136497412\n",
    "            ],\n",
    "            [\n",
    "              77.882080078125,\n",
    "              19.497664168139053\n",
    "            ],\n",
    "            [\n",
    "              78.2666015625,\n",
    "              19.580493479202527\n",
    "            ],\n",
    "            [\n",
    "              78.22265625,\n",
    "              19.81839009384496\n",
    "            ]\n",
    "          ]\n",
    "        ]\n",
    "      }\n",
    "\"\"\""
   ]
  },
  {
   "cell_type": "code",
   "execution_count": 36,
   "id": "6d40b4e6",
   "metadata": {},
   "outputs": [],
   "source": [
    "import json"
   ]
  },
  {
   "cell_type": "code",
   "execution_count": 38,
   "id": "4452b13a",
   "metadata": {},
   "outputs": [],
   "source": [
    "from shapely import geometry"
   ]
  },
  {
   "cell_type": "code",
   "execution_count": 64,
   "id": "b72e73bb",
   "metadata": {},
   "outputs": [],
   "source": [
    "test_geom = geometry.shape(json.loads(test_geom))"
   ]
  },
  {
   "cell_type": "code",
   "execution_count": 65,
   "id": "e2e21a28",
   "metadata": {},
   "outputs": [
    {
     "data": {
      "text/plain": [
       "(73.839111328125, 17.329664329425057, 78.2666015625, 19.828725387681168)"
      ]
     },
     "execution_count": 65,
     "metadata": {},
     "output_type": "execute_result"
    }
   ],
   "source": [
    "test_geom.bounds"
   ]
  },
  {
   "cell_type": "code",
   "execution_count": 29,
   "id": "73af051f",
   "metadata": {},
   "outputs": [],
   "source": [
    "import rasterio as rio"
   ]
  },
  {
   "cell_type": "code",
   "execution_count": 30,
   "id": "0e762bab",
   "metadata": {},
   "outputs": [],
   "source": [
    "from rasterio.features import rasterize"
   ]
  },
  {
   "cell_type": "code",
   "execution_count": 32,
   "id": "7e6b89e6",
   "metadata": {},
   "outputs": [],
   "source": [
    "from skimage.measure import block_reduce"
   ]
  },
  {
   "cell_type": "code",
   "execution_count": null,
   "id": "717925ca",
   "metadata": {},
   "outputs": [],
   "source": []
  },
  {
   "cell_type": "code",
   "execution_count": 104,
   "id": "616dac14",
   "metadata": {},
   "outputs": [],
   "source": [
    "def get_shape_coverage(geom,explode_factor,wgs_resolution):\n",
    "    \"\"\" takes a shapely geometry and returns a numpy array mask of the bounds extents.\n",
    "    \n",
    "    Parameters\n",
    "    ----------\n",
    "    \n",
    "    geom: shapely.geometry\n",
    "        The shapely geometry in wgs84 coordinates to mask\n",
    "    explode_factor: int\n",
    "        A resampling factor for the raster, higher gives more precise coverage in non-full and non-empty pixels\n",
    "    wgs_resolution: float\n",
    "        The resolution to rasterise in, e.g. for downstream masking tasks.\n",
    "    \"\"\"\n",
    "    \n",
    "    ### build a big array to burn in\n",
    "    # get dimensions first\n",
    "    L = basefloor(geom.bounds[0],wgs_resolution)\n",
    "    R = baseceil(geom.bounds[2],wgs_resolution)\n",
    "    B = basefloor(geom.bounds[1], wgs_resolution)\n",
    "    T = baseceil(geom.bounds[3], wgs_resolution)\n",
    "    \n",
    "    big_arr = np.zeros((int((T-B)/wgs_resolution)*explode_factor, int((R-L)/wgs_resolution)*explode_factor), dtype=np.uint8)\n",
    "    \n",
    "    # build an affine transform for the big array\n",
    "    affine = rio.transform.from_bounds(L, B, R, T, big_arr.shape[1], big_arr.shape[0])\n",
    "    \n",
    "    if geom.type=='Polygon':\n",
    "        geom_list = [geom]\n",
    "    elif geom.type=='MultiPolygon':\n",
    "        geom_list = list(geom)\n",
    "    \n",
    "    # burn-in the big array\n",
    "    rasterize(geom_list, \n",
    "              fill=0, \n",
    "              default_value = 1,\n",
    "              out=big_arr, \n",
    "              transform=affine, \n",
    "    )\n",
    "    \n",
    "    # block-reduce and normalise\n",
    "    ann = block_reduce(big_arr, (explode_factor, explode_factor), np.sum) / explode_factor / explode_factor\n",
    "    new_affine = rio.transform.from_bounds(L,B,R,T, ann.shape[1], ann.shape[0])\n",
    "    return ann, new_affine"
   ]
  },
  {
   "cell_type": "code",
   "execution_count": 105,
   "id": "2c5e5b2b",
   "metadata": {},
   "outputs": [],
   "source": [
    "ann, affine = get_shape_coverage(test_geom, 10, 0.5)"
   ]
  },
  {
   "cell_type": "code",
   "execution_count": 94,
   "id": "83e84224",
   "metadata": {},
   "outputs": [
    {
     "data": {
      "text/plain": [
       "(73.839111328125, 17.329664329425057, 78.2666015625, 19.828725387681168)"
      ]
     },
     "execution_count": 94,
     "metadata": {},
     "output_type": "execute_result"
    }
   ],
   "source": [
    "test_geom.bounds"
   ]
  },
  {
   "cell_type": "code",
   "execution_count": 101,
   "id": "0eb2db4c",
   "metadata": {},
   "outputs": [
    {
     "data": {
      "text/plain": [
       "(6, 10)"
      ]
     },
     "execution_count": 101,
     "metadata": {},
     "output_type": "execute_result"
    }
   ],
   "source": [
    "ann.shape"
   ]
  },
  {
   "cell_type": "code",
   "execution_count": 106,
   "id": "2db517fc",
   "metadata": {},
   "outputs": [
    {
     "data": {
      "text/plain": [
       "<matplotlib.image.AxesImage at 0x7fb94cda7700>"
      ]
     },
     "execution_count": 106,
     "metadata": {},
     "output_type": "execute_result"
    },
    {
     "data": {
      "image/png": "[encoded data removed]",
      "text/plain": [
       "<Figure size 432x288 with 1 Axes>"
      ]
     },
     "metadata": {
      "needs_background": "light"
     },
     "output_type": "display_data"
    }
   ],
   "source": [
    "import matplotlib.pyplot as plt\n",
    "plt.imshow(ann)"
   ]
  },
  {
   "cell_type": "code",
   "execution_count": 107,
   "id": "6e302667",
   "metadata": {},
   "outputs": [
    {
     "data": {
      "text/plain": [
       "array([[0.02, 0.15, 0.29, 0.43, 0.56, 0.69, 0.66, 0.51, 0.6 , 0.25],\n",
       "       [0.03, 0.57, 1.  , 1.  , 1.  , 1.  , 0.95, 0.12, 0.  , 0.  ],\n",
       "       [0.  , 0.  , 0.15, 0.1 , 0.1 , 0.82, 0.17, 0.  , 0.  , 0.  ],\n",
       "       [0.  , 0.  , 0.  , 0.  , 0.  , 0.77, 0.05, 0.  , 0.  , 0.  ],\n",
       "       [0.  , 0.  , 0.  , 0.  , 0.  , 0.63, 0.  , 0.  , 0.  , 0.  ],\n",
       "       [0.  , 0.  , 0.  , 0.  , 0.  , 0.13, 0.  , 0.  , 0.  , 0.  ]])"
      ]
     },
     "execution_count": 107,
     "metadata": {},
     "output_type": "execute_result"
    }
   ],
   "source": [
    "ann"
   ]
  },
  {
   "cell_type": "code",
   "execution_count": 108,
   "id": "65c25a9e",
   "metadata": {},
   "outputs": [
    {
     "data": {
      "text/plain": [
       "Affine(0.5, 0.0, 73.5,\n",
       "       0.0, -0.5, 20.0)"
      ]
     },
     "execution_count": 108,
     "metadata": {},
     "output_type": "execute_result"
    }
   ],
   "source": [
    "affine"
   ]
  },
  {
   "cell_type": "code",
   "execution_count": 26,
   "id": "a7980e97",
   "metadata": {},
   "outputs": [
    {
     "data": {
      "text/html": [
       "<div><svg style=\"position: absolute; width: 0; height: 0; overflow: hidden\">\n",
       "<defs>\n",
       "<symbol id=\"icon-database\" viewBox=\"0 0 32 32\">\n",
       "<path d=\"M16 0c-8.837 0-16 2.239-16 5v4c0 2.761 7.163 5 16 5s16-2.239 16-5v-4c0-2.761-7.163-5-16-5z\"></path>\n",
       "<path d=\"M16 17c-8.837 0-16-2.239-16-5v6c0 2.761 7.163 5 16 5s16-2.239 16-5v-6c0 2.761-7.163 5-16 5z\"></path>\n",
       "<path d=\"M16 26c-8.837 0-16-2.239-16-5v6c0 2.761 7.163 5 16 5s16-2.239 16-5v-6c0 2.761-7.163 5-16 5z\"></path>\n",
       "</symbol>\n",
       "<symbol id=\"icon-file-text2\" viewBox=\"0 0 32 32\">\n",
       "<path d=\"M28.681 7.159c-0.694-0.947-1.662-2.053-2.724-3.116s-2.169-2.030-3.116-2.724c-1.612-1.182-2.393-1.319-2.841-1.319h-15.5c-1.378 0-2.5 1.121-2.5 2.5v27c0 1.378 1.122 2.5 2.5 2.5h23c1.378 0 2.5-1.122 2.5-2.5v-19.5c0-0.448-0.137-1.23-1.319-2.841zM24.543 5.457c0.959 0.959 1.712 1.825 2.268 2.543h-4.811v-4.811c0.718 0.556 1.584 1.309 2.543 2.268zM28 29.5c0 0.271-0.229 0.5-0.5 0.5h-23c-0.271 0-0.5-0.229-0.5-0.5v-27c0-0.271 0.229-0.5 0.5-0.5 0 0 15.499-0 15.5 0v7c0 0.552 0.448 1 1 1h7v19.5z\"></path>\n",
       "<path d=\"M23 26h-14c-0.552 0-1-0.448-1-1s0.448-1 1-1h14c0.552 0 1 0.448 1 1s-0.448 1-1 1z\"></path>\n",
       "<path d=\"M23 22h-14c-0.552 0-1-0.448-1-1s0.448-1 1-1h14c0.552 0 1 0.448 1 1s-0.448 1-1 1z\"></path>\n",
       "<path d=\"M23 18h-14c-0.552 0-1-0.448-1-1s0.448-1 1-1h14c0.552 0 1 0.448 1 1s-0.448 1-1 1z\"></path>\n",
       "</symbol>\n",
       "</defs>\n",
       "</svg>\n",
       "<style>/* CSS stylesheet for displaying xarray objects in jupyterlab.\n",
       " *\n",
       " */\n",
       "\n",
       ":root {\n",
       "  --xr-font-color0: var(--jp-content-font-color0, rgba(0, 0, 0, 1));\n",
       "  --xr-font-color2: var(--jp-content-font-color2, rgba(0, 0, 0, 0.54));\n",
       "  --xr-font-color3: var(--jp-content-font-color3, rgba(0, 0, 0, 0.38));\n",
       "  --xr-border-color: var(--jp-border-color2, #e0e0e0);\n",
       "  --xr-disabled-color: var(--jp-layout-color3, #bdbdbd);\n",
       "  --xr-background-color: var(--jp-layout-color0, white);\n",
       "  --xr-background-color-row-even: var(--jp-layout-color1, white);\n",
       "  --xr-background-color-row-odd: var(--jp-layout-color2, #eeeeee);\n",
       "}\n",
       "\n",
       "html[theme=dark],\n",
       "body.vscode-dark {\n",
       "  --xr-font-color0: rgba(255, 255, 255, 1);\n",
       "  --xr-font-color2: rgba(255, 255, 255, 0.54);\n",
       "  --xr-font-color3: rgba(255, 255, 255, 0.38);\n",
       "  --xr-border-color: #1F1F1F;\n",
       "  --xr-disabled-color: #515151;\n",
       "  --xr-background-color: #111111;\n",
       "  --xr-background-color-row-even: #111111;\n",
       "  --xr-background-color-row-odd: #313131;\n",
       "}\n",
       "\n",
       ".xr-wrap {\n",
       "  display: block;\n",
       "  min-width: 300px;\n",
       "  max-width: 700px;\n",
       "}\n",
       "\n",
       ".xr-text-repr-fallback {\n",
       "  /* fallback to plain text repr when CSS is not injected (untrusted notebook) */\n",
       "  display: none;\n",
       "}\n",
       "\n",
       ".xr-header {\n",
       "  padding-top: 6px;\n",
       "  padding-bottom: 6px;\n",
       "  margin-bottom: 4px;\n",
       "  border-bottom: solid 1px var(--xr-border-color);\n",
       "}\n",
       "\n",
       ".xr-header > div,\n",
       ".xr-header > ul {\n",
       "  display: inline;\n",
       "  margin-top: 0;\n",
       "  margin-bottom: 0;\n",
       "}\n",
       "\n",
       ".xr-obj-type,\n",
       ".xr-array-name {\n",
       "  margin-left: 2px;\n",
       "  margin-right: 10px;\n",
       "}\n",
       "\n",
       ".xr-obj-type {\n",
       "  color: var(--xr-font-color2);\n",
       "}\n",
       "\n",
       ".xr-sections {\n",
       "  padding-left: 0 !important;\n",
       "  display: grid;\n",
       "  grid-template-columns: 150px auto auto 1fr 20px 20px;\n",
       "}\n",
       "\n",
       ".xr-section-item {\n",
       "  display: contents;\n",
       "}\n",
       "\n",
       ".xr-section-item input {\n",
       "  display: none;\n",
       "}\n",
       "\n",
       ".xr-section-item input + label {\n",
       "  color: var(--xr-disabled-color);\n",
       "}\n",
       "\n",
       ".xr-section-item input:enabled + label {\n",
       "  cursor: pointer;\n",
       "  color: var(--xr-font-color2);\n",
       "}\n",
       "\n",
       ".xr-section-item input:enabled + label:hover {\n",
       "  color: var(--xr-font-color0);\n",
       "}\n",
       "\n",
       ".xr-section-summary {\n",
       "  grid-column: 1;\n",
       "  color: var(--xr-font-color2);\n",
       "  font-weight: 500;\n",
       "}\n",
       "\n",
       ".xr-section-summary > span {\n",
       "  display: inline-block;\n",
       "  padding-left: 0.5em;\n",
       "}\n",
       "\n",
       ".xr-section-summary-in:disabled + label {\n",
       "  color: var(--xr-font-color2);\n",
       "}\n",
       "\n",
       ".xr-section-summary-in + label:before {\n",
       "  display: inline-block;\n",
       "  content: '►';\n",
       "  font-size: 11px;\n",
       "  width: 15px;\n",
       "  text-align: center;\n",
       "}\n",
       "\n",
       ".xr-section-summary-in:disabled + label:before {\n",
       "  color: var(--xr-disabled-color);\n",
       "}\n",
       "\n",
       ".xr-section-summary-in:checked + label:before {\n",
       "  content: '▼';\n",
       "}\n",
       "\n",
       ".xr-section-summary-in:checked + label > span {\n",
       "  display: none;\n",
       "}\n",
       "\n",
       ".xr-section-summary,\n",
       ".xr-section-inline-details {\n",
       "  padding-top: 4px;\n",
       "  padding-bottom: 4px;\n",
       "}\n",
       "\n",
       ".xr-section-inline-details {\n",
       "  grid-column: 2 / -1;\n",
       "}\n",
       "\n",
       ".xr-section-details {\n",
       "  display: none;\n",
       "  grid-column: 1 / -1;\n",
       "  margin-bottom: 5px;\n",
       "}\n",
       "\n",
       ".xr-section-summary-in:checked ~ .xr-section-details {\n",
       "  display: contents;\n",
       "}\n",
       "\n",
       ".xr-array-wrap {\n",
       "  grid-column: 1 / -1;\n",
       "  display: grid;\n",
       "  grid-template-columns: 20px auto;\n",
       "}\n",
       "\n",
       ".xr-array-wrap > label {\n",
       "  grid-column: 1;\n",
       "  vertical-align: top;\n",
       "}\n",
       "\n",
       ".xr-preview {\n",
       "  color: var(--xr-font-color3);\n",
       "}\n",
       "\n",
       ".xr-array-preview,\n",
       ".xr-array-data {\n",
       "  padding: 0 5px !important;\n",
       "  grid-column: 2;\n",
       "}\n",
       "\n",
       ".xr-array-data,\n",
       ".xr-array-in:checked ~ .xr-array-preview {\n",
       "  display: none;\n",
       "}\n",
       "\n",
       ".xr-array-in:checked ~ .xr-array-data,\n",
       ".xr-array-preview {\n",
       "  display: inline-block;\n",
       "}\n",
       "\n",
       ".xr-dim-list {\n",
       "  display: inline-block !important;\n",
       "  list-style: none;\n",
       "  padding: 0 !important;\n",
       "  margin: 0;\n",
       "}\n",
       "\n",
       ".xr-dim-list li {\n",
       "  display: inline-block;\n",
       "  padding: 0;\n",
       "  margin: 0;\n",
       "}\n",
       "\n",
       ".xr-dim-list:before {\n",
       "  content: '(';\n",
       "}\n",
       "\n",
       ".xr-dim-list:after {\n",
       "  content: ')';\n",
       "}\n",
       "\n",
       ".xr-dim-list li:not(:last-child):after {\n",
       "  content: ',';\n",
       "  padding-right: 5px;\n",
       "}\n",
       "\n",
       ".xr-has-index {\n",
       "  font-weight: bold;\n",
       "}\n",
       "\n",
       ".xr-var-list,\n",
       ".xr-var-item {\n",
       "  display: contents;\n",
       "}\n",
       "\n",
       ".xr-var-item > div,\n",
       ".xr-var-item label,\n",
       ".xr-var-item > .xr-var-name span {\n",
       "  background-color: var(--xr-background-color-row-even);\n",
       "  margin-bottom: 0;\n",
       "}\n",
       "\n",
       ".xr-var-item > .xr-var-name:hover span {\n",
       "  padding-right: 5px;\n",
       "}\n",
       "\n",
       ".xr-var-list > li:nth-child(odd) > div,\n",
       ".xr-var-list > li:nth-child(odd) > label,\n",
       ".xr-var-list > li:nth-child(odd) > .xr-var-name span {\n",
       "  background-color: var(--xr-background-color-row-odd);\n",
       "}\n",
       "\n",
       ".xr-var-name {\n",
       "  grid-column: 1;\n",
       "}\n",
       "\n",
       ".xr-var-dims {\n",
       "  grid-column: 2;\n",
       "}\n",
       "\n",
       ".xr-var-dtype {\n",
       "  grid-column: 3;\n",
       "  text-align: right;\n",
       "  color: var(--xr-font-color2);\n",
       "}\n",
       "\n",
       ".xr-var-preview {\n",
       "  grid-column: 4;\n",
       "}\n",
       "\n",
       ".xr-var-name,\n",
       ".xr-var-dims,\n",
       ".xr-var-dtype,\n",
       ".xr-preview,\n",
       ".xr-attrs dt {\n",
       "  white-space: nowrap;\n",
       "  overflow: hidden;\n",
       "  text-overflow: ellipsis;\n",
       "  padding-right: 10px;\n",
       "}\n",
       "\n",
       ".xr-var-name:hover,\n",
       ".xr-var-dims:hover,\n",
       ".xr-var-dtype:hover,\n",
       ".xr-attrs dt:hover {\n",
       "  overflow: visible;\n",
       "  width: auto;\n",
       "  z-index: 1;\n",
       "}\n",
       "\n",
       ".xr-var-attrs,\n",
       ".xr-var-data {\n",
       "  display: none;\n",
       "  background-color: var(--xr-background-color) !important;\n",
       "  padding-bottom: 5px !important;\n",
       "}\n",
       "\n",
       ".xr-var-attrs-in:checked ~ .xr-var-attrs,\n",
       ".xr-var-data-in:checked ~ .xr-var-data {\n",
       "  display: block;\n",
       "}\n",
       "\n",
       ".xr-var-data > table {\n",
       "  float: right;\n",
       "}\n",
       "\n",
       ".xr-var-name span,\n",
       ".xr-var-data,\n",
       ".xr-attrs {\n",
       "  padding-left: 25px !important;\n",
       "}\n",
       "\n",
       ".xr-attrs,\n",
       ".xr-var-attrs,\n",
       ".xr-var-data {\n",
       "  grid-column: 1 / -1;\n",
       "}\n",
       "\n",
       "dl.xr-attrs {\n",
       "  padding: 0;\n",
       "  margin: 0;\n",
       "  display: grid;\n",
       "  grid-template-columns: 125px auto;\n",
       "}\n",
       "\n",
       ".xr-attrs dt,\n",
       ".xr-attrs dd {\n",
       "  padding: 0;\n",
       "  margin: 0;\n",
       "  float: left;\n",
       "  padding-right: 10px;\n",
       "  width: auto;\n",
       "}\n",
       "\n",
       ".xr-attrs dt {\n",
       "  font-weight: normal;\n",
       "  grid-column: 1;\n",
       "}\n",
       "\n",
       ".xr-attrs dt:hover span {\n",
       "  display: inline-block;\n",
       "  background: var(--xr-background-color);\n",
       "  padding-right: 10px;\n",
       "}\n",
       "\n",
       ".xr-attrs dd {\n",
       "  grid-column: 2;\n",
       "  white-space: pre-wrap;\n",
       "  word-break: break-all;\n",
       "}\n",
       "\n",
       ".xr-icon-database,\n",
       ".xr-icon-file-text2 {\n",
       "  display: inline-block;\n",
       "  vertical-align: middle;\n",
       "  width: 1em;\n",
       "  height: 1.5em !important;\n",
       "  stroke-width: 0;\n",
       "  stroke: currentColor;\n",
       "  fill: currentColor;\n",
       "}\n",
       "</style><pre class='xr-text-repr-fallback'>&lt;xarray.Dataset&gt;\n",
       "Dimensions:            (latitude: 361, longitude: 720, step: 61, time: 31)\n",
       "Coordinates:\n",
       "    number             int64 ...\n",
       "  * time               (time) datetime64[ns] 2010-01-01 ... 2010-01-31\n",
       "  * step               (step) timedelta64[ns] 0 days 00:00:00 ... 15 days 00:...\n",
       "    heightAboveGround  float64 ...\n",
       "  * latitude           (latitude) float64 90.0 89.5 89.0 ... -89.0 -89.5 -90.0\n",
       "  * longitude          (longitude) float64 0.0 0.5 1.0 1.5 ... 358.5 359.0 359.5\n",
       "    valid_time         (time, step) datetime64[ns] dask.array&lt;chunksize=(31, 61), meta=np.ndarray&gt;\n",
       "    surface            float64 ...\n",
       "Data variables:\n",
       "    t2m                (time, step, latitude, longitude) float32 dask.array&lt;chunksize=(31, 61, 10, 10), meta=np.ndarray&gt;\n",
       "    tp                 (time, step, latitude, longitude) float32 dask.array&lt;chunksize=(31, 61, 10, 10), meta=np.ndarray&gt;\n",
       "Attributes:\n",
       "    GRIB_edition:            2\n",
       "    GRIB_centre:             ecmf\n",
       "    GRIB_centreDescription:  European Centre for Medium-Range Weather Forecasts\n",
       "    GRIB_subCentre:          0\n",
       "    Conventions:             CF-1.7\n",
       "    institution:             European Centre for Medium-Range Weather Forecasts\n",
       "    history:                 2021-07-18T22:22 GRIB to CDM+CF via cfgrib-0.9.9...</pre><div class='xr-wrap' hidden><div class='xr-header'><div class='xr-obj-type'>xarray.Dataset</div></div><ul class='xr-sections'><li class='xr-section-item'><input id='section-932ad3dd-7a05-4acc-99d8-3f77bdbeb3b0' class='xr-section-summary-in' type='checkbox' disabled ><label for='section-932ad3dd-7a05-4acc-99d8-3f77bdbeb3b0' class='xr-section-summary'  title='Expand/collapse section'>Dimensions:</label><div class='xr-section-inline-details'><ul class='xr-dim-list'><li><span class='xr-has-index'>latitude</span>: 361</li><li><span class='xr-has-index'>longitude</span>: 720</li><li><span class='xr-has-index'>step</span>: 61</li><li><span class='xr-has-index'>time</span>: 31</li></ul></div><div class='xr-section-details'></div></li><li class='xr-section-item'><input id='section-97729c4f-05d6-4214-8315-c00ee22136b8' class='xr-section-summary-in' type='checkbox'  checked><label for='section-97729c4f-05d6-4214-8315-c00ee22136b8' class='xr-section-summary' >Coordinates: <span>(8)</span></label><div class='xr-section-inline-details'></div><div class='xr-section-details'><ul class='xr-var-list'><li class='xr-var-item'><div class='xr-var-name'><span>number</span></div><div class='xr-var-dims'>()</div><div class='xr-var-dtype'>int64</div><div class='xr-var-preview xr-preview'>...</div><input id='attrs-d13323c1-55f1-40e6-96ae-ec0e9c5f124c' class='xr-var-attrs-in' type='checkbox' ><label for='attrs-d13323c1-55f1-40e6-96ae-ec0e9c5f124c' title='Show/Hide attributes'><svg class='icon xr-icon-file-text2'><use xlink:href='#icon-file-text2'></use></svg></label><input id='data-1bc2ced5-a0ae-4946-8bb7-5af9787bed34' class='xr-var-data-in' type='checkbox'><label for='data-1bc2ced5-a0ae-4946-8bb7-5af9787bed34' title='Show/Hide data repr'><svg class='icon xr-icon-database'><use xlink:href='#icon-database'></use></svg></label><div class='xr-var-attrs'><dl class='xr-attrs'><dt><span>long_name :</span></dt><dd>ensemble member numerical id</dd><dt><span>units :</span></dt><dd>1</dd><dt><span>standard_name :</span></dt><dd>realization</dd></dl></div><div class='xr-var-data'><pre>array(0)</pre></div></li><li class='xr-var-item'><div class='xr-var-name'><span class='xr-has-index'>time</span></div><div class='xr-var-dims'>(time)</div><div class='xr-var-dtype'>datetime64[ns]</div><div class='xr-var-preview xr-preview'>2010-01-01 ... 2010-01-31</div><input id='attrs-cb2d369a-e29f-4225-b274-1d43cbce406c' class='xr-var-attrs-in' type='checkbox' ><label for='attrs-cb2d369a-e29f-4225-b274-1d43cbce406c' title='Show/Hide attributes'><svg class='icon xr-icon-file-text2'><use xlink:href='#icon-file-text2'></use></svg></label><input id='data-ad41b982-84ce-4b1c-96ae-fe8d597c5015' class='xr-var-data-in' type='checkbox'><label for='data-ad41b982-84ce-4b1c-96ae-fe8d597c5015' title='Show/Hide data repr'><svg class='icon xr-icon-database'><use xlink:href='#icon-database'></use></svg></label><div class='xr-var-attrs'><dl class='xr-attrs'><dt><span>long_name :</span></dt><dd>initial time of forecast</dd><dt><span>standard_name :</span></dt><dd>forecast_reference_time</dd></dl></div><div class='xr-var-data'><pre>array([&#x27;2010-01-01T00:00:00.000000000&#x27;, &#x27;2010-01-02T00:00:00.000000000&#x27;,\n",
       "       &#x27;2010-01-03T00:00:00.000000000&#x27;, &#x27;2010-01-04T00:00:00.000000000&#x27;,\n",
       "       &#x27;2010-01-05T00:00:00.000000000&#x27;, &#x27;2010-01-06T00:00:00.000000000&#x27;,\n",
       "       &#x27;2010-01-07T00:00:00.000000000&#x27;, &#x27;2010-01-08T00:00:00.000000000&#x27;,\n",
       "       &#x27;2010-01-09T00:00:00.000000000&#x27;, &#x27;2010-01-10T00:00:00.000000000&#x27;,\n",
       "       &#x27;2010-01-11T00:00:00.000000000&#x27;, &#x27;2010-01-12T00:00:00.000000000&#x27;,\n",
       "       &#x27;2010-01-13T00:00:00.000000000&#x27;, &#x27;2010-01-14T00:00:00.000000000&#x27;,\n",
       "       &#x27;2010-01-15T00:00:00.000000000&#x27;, &#x27;2010-01-16T00:00:00.000000000&#x27;,\n",
       "       &#x27;2010-01-17T00:00:00.000000000&#x27;, &#x27;2010-01-18T00:00:00.000000000&#x27;,\n",
       "       &#x27;2010-01-19T00:00:00.000000000&#x27;, &#x27;2010-01-20T00:00:00.000000000&#x27;,\n",
       "       &#x27;2010-01-21T00:00:00.000000000&#x27;, &#x27;2010-01-22T00:00:00.000000000&#x27;,\n",
       "       &#x27;2010-01-23T00:00:00.000000000&#x27;, &#x27;2010-01-24T00:00:00.000000000&#x27;,\n",
       "       &#x27;2010-01-25T00:00:00.000000000&#x27;, &#x27;2010-01-26T00:00:00.000000000&#x27;,\n",
       "       &#x27;2010-01-27T00:00:00.000000000&#x27;, &#x27;2010-01-28T00:00:00.000000000&#x27;,\n",
       "       &#x27;2010-01-29T00:00:00.000000000&#x27;, &#x27;2010-01-30T00:00:00.000000000&#x27;,\n",
       "       &#x27;2010-01-31T00:00:00.000000000&#x27;], dtype=&#x27;datetime64[ns]&#x27;)</pre></div></li><li class='xr-var-item'><div class='xr-var-name'><span class='xr-has-index'>step</span></div><div class='xr-var-dims'>(step)</div><div class='xr-var-dtype'>timedelta64[ns]</div><div class='xr-var-preview xr-preview'>0 days 00:00:00 ... 15 days 00:0...</div><input id='attrs-41cd5ee5-6ea1-46a0-9c66-bcfbcf137531' class='xr-var-attrs-in' type='checkbox' ><label for='attrs-41cd5ee5-6ea1-46a0-9c66-bcfbcf137531' title='Show/Hide attributes'><svg class='icon xr-icon-file-text2'><use xlink:href='#icon-file-text2'></use></svg></label><input id='data-4c63197b-dba0-46a3-a8ca-0a1cd13d4faf' class='xr-var-data-in' type='checkbox'><label for='data-4c63197b-dba0-46a3-a8ca-0a1cd13d4faf' title='Show/Hide data repr'><svg class='icon xr-icon-database'><use xlink:href='#icon-database'></use></svg></label><div class='xr-var-attrs'><dl class='xr-attrs'><dt><span>long_name :</span></dt><dd>time since forecast_reference_time</dd><dt><span>standard_name :</span></dt><dd>forecast_period</dd></dl></div><div class='xr-var-data'><pre>array([               0,   21600000000000,   43200000000000,   64800000000000,\n",
       "         86400000000000,  108000000000000,  129600000000000,  151200000000000,\n",
       "        172800000000000,  194400000000000,  216000000000000,  237600000000000,\n",
       "        259200000000000,  280800000000000,  302400000000000,  324000000000000,\n",
       "        345600000000000,  367200000000000,  388800000000000,  410400000000000,\n",
       "        432000000000000,  453600000000000,  475200000000000,  496800000000000,\n",
       "        518400000000000,  540000000000000,  561600000000000,  583200000000000,\n",
       "        604800000000000,  626400000000000,  648000000000000,  669600000000000,\n",
       "        691200000000000,  712800000000000,  734400000000000,  756000000000000,\n",
       "        777600000000000,  799200000000000,  820800000000000,  842400000000000,\n",
       "        864000000000000,  885600000000000,  907200000000000,  928800000000000,\n",
       "        950400000000000,  972000000000000,  993600000000000, 1015200000000000,\n",
       "       1036800000000000, 1058400000000000, 1080000000000000, 1101600000000000,\n",
       "       1123200000000000, 1144800000000000, 1166400000000000, 1188000000000000,\n",
       "       1209600000000000, 1231200000000000, 1252800000000000, 1274400000000000,\n",
       "       1296000000000000], dtype=&#x27;timedelta64[ns]&#x27;)</pre></div></li><li class='xr-var-item'><div class='xr-var-name'><span>heightAboveGround</span></div><div class='xr-var-dims'>()</div><div class='xr-var-dtype'>float64</div><div class='xr-var-preview xr-preview'>...</div><input id='attrs-9174e9e9-90ed-4996-ae1c-042e06b321bc' class='xr-var-attrs-in' type='checkbox' ><label for='attrs-9174e9e9-90ed-4996-ae1c-042e06b321bc' title='Show/Hide attributes'><svg class='icon xr-icon-file-text2'><use xlink:href='#icon-file-text2'></use></svg></label><input id='data-de1eb00d-e9bf-40ee-9bff-233608300902' class='xr-var-data-in' type='checkbox'><label for='data-de1eb00d-e9bf-40ee-9bff-233608300902' title='Show/Hide data repr'><svg class='icon xr-icon-database'><use xlink:href='#icon-database'></use></svg></label><div class='xr-var-attrs'><dl class='xr-attrs'><dt><span>long_name :</span></dt><dd>height above the surface</dd><dt><span>units :</span></dt><dd>m</dd><dt><span>positive :</span></dt><dd>up</dd><dt><span>standard_name :</span></dt><dd>height</dd></dl></div><div class='xr-var-data'><pre>array(2.)</pre></div></li><li class='xr-var-item'><div class='xr-var-name'><span class='xr-has-index'>latitude</span></div><div class='xr-var-dims'>(latitude)</div><div class='xr-var-dtype'>float64</div><div class='xr-var-preview xr-preview'>90.0 89.5 89.0 ... -89.5 -90.0</div><input id='attrs-6f0c2130-1d49-4fdb-8980-ce5c2b78f4c8' class='xr-var-attrs-in' type='checkbox' ><label for='attrs-6f0c2130-1d49-4fdb-8980-ce5c2b78f4c8' title='Show/Hide attributes'><svg class='icon xr-icon-file-text2'><use xlink:href='#icon-file-text2'></use></svg></label><input id='data-3e832614-21e3-45c9-9c6f-e45f089e2e53' class='xr-var-data-in' type='checkbox'><label for='data-3e832614-21e3-45c9-9c6f-e45f089e2e53' title='Show/Hide data repr'><svg class='icon xr-icon-database'><use xlink:href='#icon-database'></use></svg></label><div class='xr-var-attrs'><dl class='xr-attrs'><dt><span>units :</span></dt><dd>degrees_north</dd><dt><span>standard_name :</span></dt><dd>latitude</dd><dt><span>long_name :</span></dt><dd>latitude</dd><dt><span>stored_direction :</span></dt><dd>decreasing</dd></dl></div><div class='xr-var-data'><pre>array([ 90. ,  89.5,  89. , ..., -89. , -89.5, -90. ])</pre></div></li><li class='xr-var-item'><div class='xr-var-name'><span class='xr-has-index'>longitude</span></div><div class='xr-var-dims'>(longitude)</div><div class='xr-var-dtype'>float64</div><div class='xr-var-preview xr-preview'>0.0 0.5 1.0 ... 358.5 359.0 359.5</div><input id='attrs-02c5ec03-6468-4285-80e8-bee3da098141' class='xr-var-attrs-in' type='checkbox' ><label for='attrs-02c5ec03-6468-4285-80e8-bee3da098141' title='Show/Hide attributes'><svg class='icon xr-icon-file-text2'><use xlink:href='#icon-file-text2'></use></svg></label><input id='data-ffffd569-2677-453f-b313-9d7b220fa124' class='xr-var-data-in' type='checkbox'><label for='data-ffffd569-2677-453f-b313-9d7b220fa124' title='Show/Hide data repr'><svg class='icon xr-icon-database'><use xlink:href='#icon-database'></use></svg></label><div class='xr-var-attrs'><dl class='xr-attrs'><dt><span>units :</span></dt><dd>degrees_east</dd><dt><span>standard_name :</span></dt><dd>longitude</dd><dt><span>long_name :</span></dt><dd>longitude</dd></dl></div><div class='xr-var-data'><pre>array([  0. ,   0.5,   1. , ..., 358.5, 359. , 359.5])</pre></div></li><li class='xr-var-item'><div class='xr-var-name'><span>valid_time</span></div><div class='xr-var-dims'>(time, step)</div><div class='xr-var-dtype'>datetime64[ns]</div><div class='xr-var-preview xr-preview'>dask.array&lt;chunksize=(31, 61), meta=np.ndarray&gt;</div><input id='attrs-768c0035-b5ce-4dd5-885e-beedf4e337cf' class='xr-var-attrs-in' type='checkbox' ><label for='attrs-768c0035-b5ce-4dd5-885e-beedf4e337cf' title='Show/Hide attributes'><svg class='icon xr-icon-file-text2'><use xlink:href='#icon-file-text2'></use></svg></label><input id='data-7c1b31b7-d857-43af-8d3d-c6ca0d05187b' class='xr-var-data-in' type='checkbox'><label for='data-7c1b31b7-d857-43af-8d3d-c6ca0d05187b' title='Show/Hide data repr'><svg class='icon xr-icon-database'><use xlink:href='#icon-database'></use></svg></label><div class='xr-var-attrs'><dl class='xr-attrs'><dt><span>standard_name :</span></dt><dd>time</dd><dt><span>long_name :</span></dt><dd>time</dd></dl></div><div class='xr-var-data'><table>\n",
       "<tr>\n",
       "<td>\n",
       "<table>\n",
       "  <thead>\n",
       "    <tr><td> </td><th> Array </th><th> Chunk </th></tr>\n",
       "  </thead>\n",
       "  <tbody>\n",
       "    <tr><th> Bytes </th><td> 14.77 kiB </td> <td> 14.77 kiB </td></tr>\n",
       "    <tr><th> Shape </th><td> (31, 61) </td> <td> (31, 61) </td></tr>\n",
       "    <tr><th> Count </th><td> 2 Tasks </td><td> 1 Chunks </td></tr>\n",
       "    <tr><th> Type </th><td> datetime64[ns] </td><td> numpy.ndarray </td></tr>\n",
       "  </tbody>\n",
       "</table>\n",
       "</td>\n",
       "<td>\n",
       "<svg width=\"170\" height=\"110\" style=\"stroke:rgb(0,0,0);stroke-width:1\" >\n",
       "\n",
       "  <!-- Horizontal lines -->\n",
       "  <line x1=\"0\" y1=\"0\" x2=\"120\" y2=\"0\" style=\"stroke-width:2\" />\n",
       "  <line x1=\"0\" y1=\"60\" x2=\"120\" y2=\"60\" style=\"stroke-width:2\" />\n",
       "\n",
       "  <!-- Vertical lines -->\n",
       "  <line x1=\"0\" y1=\"0\" x2=\"0\" y2=\"60\" style=\"stroke-width:2\" />\n",
       "  <line x1=\"120\" y1=\"0\" x2=\"120\" y2=\"60\" style=\"stroke-width:2\" />\n",
       "\n",
       "  <!-- Colored Rectangle -->\n",
       "  <polygon points=\"0.0,0.0 120.0,0.0 120.0,60.98360655737705 0.0,60.98360655737705\" style=\"fill:#ECB172A0;stroke-width:0\"/>\n",
       "\n",
       "  <!-- Text -->\n",
       "  <text x=\"60.000000\" y=\"80.983607\" font-size=\"1.0rem\" font-weight=\"100\" text-anchor=\"middle\" >61</text>\n",
       "  <text x=\"140.000000\" y=\"30.491803\" font-size=\"1.0rem\" font-weight=\"100\" text-anchor=\"middle\" transform=\"rotate(0,140.000000,30.491803)\">31</text>\n",
       "</svg>\n",
       "</td>\n",
       "</tr>\n",
       "</table></div></li><li class='xr-var-item'><div class='xr-var-name'><span>surface</span></div><div class='xr-var-dims'>()</div><div class='xr-var-dtype'>float64</div><div class='xr-var-preview xr-preview'>...</div><input id='attrs-ef2a0f6c-7ccb-4f6b-a950-e9c0d9c1aa7f' class='xr-var-attrs-in' type='checkbox' ><label for='attrs-ef2a0f6c-7ccb-4f6b-a950-e9c0d9c1aa7f' title='Show/Hide attributes'><svg class='icon xr-icon-file-text2'><use xlink:href='#icon-file-text2'></use></svg></label><input id='data-3ec6810f-3a86-4091-a944-a0d74f4b80a9' class='xr-var-data-in' type='checkbox'><label for='data-3ec6810f-3a86-4091-a944-a0d74f4b80a9' title='Show/Hide data repr'><svg class='icon xr-icon-database'><use xlink:href='#icon-database'></use></svg></label><div class='xr-var-attrs'><dl class='xr-attrs'><dt><span>long_name :</span></dt><dd>original GRIB coordinate for key: level(surface)</dd><dt><span>units :</span></dt><dd>1</dd></dl></div><div class='xr-var-data'><pre>array(0.)</pre></div></li></ul></div></li><li class='xr-section-item'><input id='section-d7bf3ae1-d219-47f0-b24c-7a416a8a9785' class='xr-section-summary-in' type='checkbox'  checked><label for='section-d7bf3ae1-d219-47f0-b24c-7a416a8a9785' class='xr-section-summary' >Data variables: <span>(2)</span></label><div class='xr-section-inline-details'></div><div class='xr-section-details'><ul class='xr-var-list'><li class='xr-var-item'><div class='xr-var-name'><span>t2m</span></div><div class='xr-var-dims'>(time, step, latitude, longitude)</div><div class='xr-var-dtype'>float32</div><div class='xr-var-preview xr-preview'>dask.array&lt;chunksize=(31, 61, 10, 10), meta=np.ndarray&gt;</div><input id='attrs-9ee0df30-15b8-4770-bdaf-1a4ec3726377' class='xr-var-attrs-in' type='checkbox' ><label for='attrs-9ee0df30-15b8-4770-bdaf-1a4ec3726377' title='Show/Hide attributes'><svg class='icon xr-icon-file-text2'><use xlink:href='#icon-file-text2'></use></svg></label><input id='data-90c7619b-0cd8-48cb-9f4d-57e9c96328e2' class='xr-var-data-in' type='checkbox'><label for='data-90c7619b-0cd8-48cb-9f4d-57e9c96328e2' title='Show/Hide data repr'><svg class='icon xr-icon-database'><use xlink:href='#icon-database'></use></svg></label><div class='xr-var-attrs'><dl class='xr-attrs'><dt><span>GRIB_paramId :</span></dt><dd>167</dd><dt><span>GRIB_dataType :</span></dt><dd>cf</dd><dt><span>GRIB_numberOfPoints :</span></dt><dd>259920</dd><dt><span>GRIB_typeOfLevel :</span></dt><dd>heightAboveGround</dd><dt><span>GRIB_stepUnits :</span></dt><dd>1</dd><dt><span>GRIB_stepType :</span></dt><dd>instant</dd><dt><span>GRIB_gridType :</span></dt><dd>regular_ll</dd><dt><span>GRIB_NV :</span></dt><dd>0</dd><dt><span>GRIB_Nx :</span></dt><dd>720</dd><dt><span>GRIB_Ny :</span></dt><dd>361</dd><dt><span>GRIB_cfName :</span></dt><dd>air_temperature</dd><dt><span>GRIB_cfVarName :</span></dt><dd>t2m</dd><dt><span>GRIB_gridDefinitionDescription :</span></dt><dd>Latitude/longitude </dd><dt><span>GRIB_iDirectionIncrementInDegrees :</span></dt><dd>0.5</dd><dt><span>GRIB_iScansNegatively :</span></dt><dd>0</dd><dt><span>GRIB_jDirectionIncrementInDegrees :</span></dt><dd>0.5</dd><dt><span>GRIB_jPointsAreConsecutive :</span></dt><dd>0</dd><dt><span>GRIB_jScansPositively :</span></dt><dd>0</dd><dt><span>GRIB_latitudeOfFirstGridPointInDegrees :</span></dt><dd>90.0</dd><dt><span>GRIB_latitudeOfLastGridPointInDegrees :</span></dt><dd>-90.0</dd><dt><span>GRIB_longitudeOfFirstGridPointInDegrees :</span></dt><dd>0.0</dd><dt><span>GRIB_longitudeOfLastGridPointInDegrees :</span></dt><dd>359.5</dd><dt><span>GRIB_missingValue :</span></dt><dd>9999</dd><dt><span>GRIB_name :</span></dt><dd>2 metre temperature</dd><dt><span>GRIB_shortName :</span></dt><dd>2t</dd><dt><span>GRIB_totalNumber :</span></dt><dd>51</dd><dt><span>GRIB_units :</span></dt><dd>K</dd><dt><span>long_name :</span></dt><dd>2 metre temperature</dd><dt><span>units :</span></dt><dd>K</dd><dt><span>standard_name :</span></dt><dd>air_temperature</dd></dl></div><div class='xr-var-data'><table>\n",
       "<tr>\n",
       "<td>\n",
       "<table>\n",
       "  <thead>\n",
       "    <tr><td> </td><th> Array </th><th> Chunk </th></tr>\n",
       "  </thead>\n",
       "  <tbody>\n",
       "    <tr><th> Bytes </th><td> 1.83 GiB </td> <td> 738.67 kiB </td></tr>\n",
       "    <tr><th> Shape </th><td> (31, 61, 361, 720) </td> <td> (31, 61, 10, 10) </td></tr>\n",
       "    <tr><th> Count </th><td> 2665 Tasks </td><td> 2664 Chunks </td></tr>\n",
       "    <tr><th> Type </th><td> float32 </td><td> numpy.ndarray </td></tr>\n",
       "  </tbody>\n",
       "</table>\n",
       "</td>\n",
       "<td>\n",
       "<svg width=\"398\" height=\"132\" style=\"stroke:rgb(0,0,0);stroke-width:1\" >\n",
       "\n",
       "  <!-- Horizontal lines -->\n",
       "  <line x1=\"0\" y1=\"0\" x2=\"33\" y2=\"0\" style=\"stroke-width:2\" />\n",
       "  <line x1=\"0\" y1=\"25\" x2=\"33\" y2=\"25\" style=\"stroke-width:2\" />\n",
       "\n",
       "  <!-- Vertical lines -->\n",
       "  <line x1=\"0\" y1=\"0\" x2=\"0\" y2=\"25\" style=\"stroke-width:2\" />\n",
       "  <line x1=\"33\" y1=\"0\" x2=\"33\" y2=\"25\" style=\"stroke-width:2\" />\n",
       "\n",
       "  <!-- Colored Rectangle -->\n",
       "  <polygon points=\"0.0,0.0 33.58456194395117,0.0 33.58456194395117,25.412616514582485 0.0,25.412616514582485\" style=\"fill:#ECB172A0;stroke-width:0\"/>\n",
       "\n",
       "  <!-- Text -->\n",
       "  <text x=\"16.792281\" y=\"45.412617\" font-size=\"1.0rem\" font-weight=\"100\" text-anchor=\"middle\" >31</text>\n",
       "  <text x=\"53.584562\" y=\"12.706308\" font-size=\"1.0rem\" font-weight=\"100\" text-anchor=\"middle\" transform=\"rotate(0,53.584562,12.706308)\">1</text>\n",
       "\n",
       "\n",
       "  <!-- Horizontal lines -->\n",
       "  <line x1=\"103\" y1=\"0\" x2=\"125\" y2=\"22\" style=\"stroke-width:2\" />\n",
       "  <line x1=\"103\" y1=\"1\" x2=\"125\" y2=\"23\" />\n",
       "  <line x1=\"103\" y1=\"3\" x2=\"125\" y2=\"25\" />\n",
       "  <line x1=\"103\" y1=\"5\" x2=\"125\" y2=\"27\" />\n",
       "  <line x1=\"103\" y1=\"6\" x2=\"125\" y2=\"28\" />\n",
       "  <line x1=\"103\" y1=\"8\" x2=\"125\" y2=\"30\" />\n",
       "  <line x1=\"103\" y1=\"10\" x2=\"125\" y2=\"32\" />\n",
       "  <line x1=\"103\" y1=\"13\" x2=\"125\" y2=\"35\" />\n",
       "  <line x1=\"103\" y1=\"15\" x2=\"125\" y2=\"37\" />\n",
       "  <line x1=\"103\" y1=\"16\" x2=\"125\" y2=\"38\" />\n",
       "  <line x1=\"103\" y1=\"18\" x2=\"125\" y2=\"40\" />\n",
       "  <line x1=\"103\" y1=\"20\" x2=\"125\" y2=\"42\" />\n",
       "  <line x1=\"103\" y1=\"21\" x2=\"125\" y2=\"43\" />\n",
       "  <line x1=\"103\" y1=\"25\" x2=\"125\" y2=\"47\" />\n",
       "  <line x1=\"103\" y1=\"26\" x2=\"125\" y2=\"48\" />\n",
       "  <line x1=\"103\" y1=\"28\" x2=\"125\" y2=\"50\" />\n",
       "  <line x1=\"103\" y1=\"30\" x2=\"125\" y2=\"52\" />\n",
       "  <line x1=\"103\" y1=\"31\" x2=\"125\" y2=\"53\" />\n",
       "  <line x1=\"103\" y1=\"33\" x2=\"125\" y2=\"55\" />\n",
       "  <line x1=\"103\" y1=\"35\" x2=\"125\" y2=\"57\" />\n",
       "  <line x1=\"103\" y1=\"38\" x2=\"125\" y2=\"60\" />\n",
       "  <line x1=\"103\" y1=\"40\" x2=\"125\" y2=\"62\" />\n",
       "  <line x1=\"103\" y1=\"41\" x2=\"125\" y2=\"63\" />\n",
       "  <line x1=\"103\" y1=\"43\" x2=\"125\" y2=\"65\" />\n",
       "  <line x1=\"103\" y1=\"45\" x2=\"125\" y2=\"67\" />\n",
       "  <line x1=\"103\" y1=\"46\" x2=\"125\" y2=\"68\" />\n",
       "  <line x1=\"103\" y1=\"50\" x2=\"125\" y2=\"72\" />\n",
       "  <line x1=\"103\" y1=\"51\" x2=\"125\" y2=\"73\" />\n",
       "  <line x1=\"103\" y1=\"53\" x2=\"125\" y2=\"75\" />\n",
       "  <line x1=\"103\" y1=\"55\" x2=\"125\" y2=\"77\" />\n",
       "  <line x1=\"103\" y1=\"56\" x2=\"125\" y2=\"78\" />\n",
       "  <line x1=\"103\" y1=\"58\" x2=\"125\" y2=\"80\" />\n",
       "  <line x1=\"103\" y1=\"60\" x2=\"125\" y2=\"82\" style=\"stroke-width:2\" />\n",
       "\n",
       "  <!-- Vertical lines -->\n",
       "  <line x1=\"103\" y1=\"0\" x2=\"103\" y2=\"60\" style=\"stroke-width:2\" />\n",
       "  <line x1=\"125\" y1=\"22\" x2=\"125\" y2=\"82\" style=\"stroke-width:2\" />\n",
       "\n",
       "  <!-- Colored Rectangle -->\n",
       "  <polygon points=\"103.0,0.0 125.15236113370017,22.15236113370016 125.15236113370017,82.31902780036683 103.0,60.16666666666666\" style=\"fill:#8B4903A0;stroke-width:0\"/>\n",
       "\n",
       "  <!-- Horizontal lines -->\n",
       "  <line x1=\"103\" y1=\"0\" x2=\"223\" y2=\"0\" style=\"stroke-width:2\" />\n",
       "  <line x1=\"125\" y1=\"22\" x2=\"245\" y2=\"22\" style=\"stroke-width:2\" />\n",
       "\n",
       "  <!-- Vertical lines -->\n",
       "  <line x1=\"103\" y1=\"0\" x2=\"125\" y2=\"22\" style=\"stroke-width:2\" />\n",
       "  <line x1=\"106\" y1=\"0\" x2=\"128\" y2=\"22\" />\n",
       "  <line x1=\"109\" y1=\"0\" x2=\"131\" y2=\"22\" />\n",
       "  <line x1=\"113\" y1=\"0\" x2=\"135\" y2=\"22\" />\n",
       "  <line x1=\"118\" y1=\"0\" x2=\"140\" y2=\"22\" />\n",
       "  <line x1=\"121\" y1=\"0\" x2=\"143\" y2=\"22\" />\n",
       "  <line x1=\"124\" y1=\"0\" x2=\"146\" y2=\"22\" />\n",
       "  <line x1=\"128\" y1=\"0\" x2=\"150\" y2=\"22\" />\n",
       "  <line x1=\"133\" y1=\"0\" x2=\"155\" y2=\"22\" />\n",
       "  <line x1=\"136\" y1=\"0\" x2=\"158\" y2=\"22\" />\n",
       "  <line x1=\"139\" y1=\"0\" x2=\"161\" y2=\"22\" />\n",
       "  <line x1=\"143\" y1=\"0\" x2=\"165\" y2=\"22\" />\n",
       "  <line x1=\"148\" y1=\"0\" x2=\"170\" y2=\"22\" />\n",
       "  <line x1=\"151\" y1=\"0\" x2=\"173\" y2=\"22\" />\n",
       "  <line x1=\"154\" y1=\"0\" x2=\"176\" y2=\"22\" />\n",
       "  <line x1=\"158\" y1=\"0\" x2=\"180\" y2=\"22\" />\n",
       "  <line x1=\"163\" y1=\"0\" x2=\"185\" y2=\"22\" />\n",
       "  <line x1=\"166\" y1=\"0\" x2=\"188\" y2=\"22\" />\n",
       "  <line x1=\"169\" y1=\"0\" x2=\"191\" y2=\"22\" />\n",
       "  <line x1=\"173\" y1=\"0\" x2=\"195\" y2=\"22\" />\n",
       "  <line x1=\"178\" y1=\"0\" x2=\"200\" y2=\"22\" />\n",
       "  <line x1=\"181\" y1=\"0\" x2=\"203\" y2=\"22\" />\n",
       "  <line x1=\"184\" y1=\"0\" x2=\"206\" y2=\"22\" />\n",
       "  <line x1=\"188\" y1=\"0\" x2=\"210\" y2=\"22\" />\n",
       "  <line x1=\"193\" y1=\"0\" x2=\"215\" y2=\"22\" />\n",
       "  <line x1=\"196\" y1=\"0\" x2=\"218\" y2=\"22\" />\n",
       "  <line x1=\"199\" y1=\"0\" x2=\"221\" y2=\"22\" />\n",
       "  <line x1=\"203\" y1=\"0\" x2=\"225\" y2=\"22\" />\n",
       "  <line x1=\"208\" y1=\"0\" x2=\"230\" y2=\"22\" />\n",
       "  <line x1=\"211\" y1=\"0\" x2=\"233\" y2=\"22\" />\n",
       "  <line x1=\"214\" y1=\"0\" x2=\"236\" y2=\"22\" />\n",
       "  <line x1=\"218\" y1=\"0\" x2=\"240\" y2=\"22\" />\n",
       "  <line x1=\"223\" y1=\"0\" x2=\"245\" y2=\"22\" style=\"stroke-width:2\" />\n",
       "\n",
       "  <!-- Colored Rectangle -->\n",
       "  <polygon points=\"103.0,0.0 223.0,0.0 245.15236113370017,22.15236113370016 125.15236113370017,22.15236113370016\" style=\"fill:#8B4903A0;stroke-width:0\"/>\n",
       "\n",
       "  <!-- Horizontal lines -->\n",
       "  <line x1=\"125\" y1=\"22\" x2=\"245\" y2=\"22\" style=\"stroke-width:2\" />\n",
       "  <line x1=\"125\" y1=\"23\" x2=\"245\" y2=\"23\" />\n",
       "  <line x1=\"125\" y1=\"25\" x2=\"245\" y2=\"25\" />\n",
       "  <line x1=\"125\" y1=\"27\" x2=\"245\" y2=\"27\" />\n",
       "  <line x1=\"125\" y1=\"28\" x2=\"245\" y2=\"28\" />\n",
       "  <line x1=\"125\" y1=\"30\" x2=\"245\" y2=\"30\" />\n",
       "  <line x1=\"125\" y1=\"32\" x2=\"245\" y2=\"32\" />\n",
       "  <line x1=\"125\" y1=\"35\" x2=\"245\" y2=\"35\" />\n",
       "  <line x1=\"125\" y1=\"37\" x2=\"245\" y2=\"37\" />\n",
       "  <line x1=\"125\" y1=\"38\" x2=\"245\" y2=\"38\" />\n",
       "  <line x1=\"125\" y1=\"40\" x2=\"245\" y2=\"40\" />\n",
       "  <line x1=\"125\" y1=\"42\" x2=\"245\" y2=\"42\" />\n",
       "  <line x1=\"125\" y1=\"43\" x2=\"245\" y2=\"43\" />\n",
       "  <line x1=\"125\" y1=\"47\" x2=\"245\" y2=\"47\" />\n",
       "  <line x1=\"125\" y1=\"48\" x2=\"245\" y2=\"48\" />\n",
       "  <line x1=\"125\" y1=\"50\" x2=\"245\" y2=\"50\" />\n",
       "  <line x1=\"125\" y1=\"52\" x2=\"245\" y2=\"52\" />\n",
       "  <line x1=\"125\" y1=\"53\" x2=\"245\" y2=\"53\" />\n",
       "  <line x1=\"125\" y1=\"55\" x2=\"245\" y2=\"55\" />\n",
       "  <line x1=\"125\" y1=\"57\" x2=\"245\" y2=\"57\" />\n",
       "  <line x1=\"125\" y1=\"60\" x2=\"245\" y2=\"60\" />\n",
       "  <line x1=\"125\" y1=\"62\" x2=\"245\" y2=\"62\" />\n",
       "  <line x1=\"125\" y1=\"63\" x2=\"245\" y2=\"63\" />\n",
       "  <line x1=\"125\" y1=\"65\" x2=\"245\" y2=\"65\" />\n",
       "  <line x1=\"125\" y1=\"67\" x2=\"245\" y2=\"67\" />\n",
       "  <line x1=\"125\" y1=\"68\" x2=\"245\" y2=\"68\" />\n",
       "  <line x1=\"125\" y1=\"72\" x2=\"245\" y2=\"72\" />\n",
       "  <line x1=\"125\" y1=\"73\" x2=\"245\" y2=\"73\" />\n",
       "  <line x1=\"125\" y1=\"75\" x2=\"245\" y2=\"75\" />\n",
       "  <line x1=\"125\" y1=\"77\" x2=\"245\" y2=\"77\" />\n",
       "  <line x1=\"125\" y1=\"78\" x2=\"245\" y2=\"78\" />\n",
       "  <line x1=\"125\" y1=\"80\" x2=\"245\" y2=\"80\" />\n",
       "  <line x1=\"125\" y1=\"82\" x2=\"245\" y2=\"82\" style=\"stroke-width:2\" />\n",
       "\n",
       "  <!-- Vertical lines -->\n",
       "  <line x1=\"125\" y1=\"22\" x2=\"125\" y2=\"82\" style=\"stroke-width:2\" />\n",
       "  <line x1=\"128\" y1=\"22\" x2=\"128\" y2=\"82\" />\n",
       "  <line x1=\"131\" y1=\"22\" x2=\"131\" y2=\"82\" />\n",
       "  <line x1=\"135\" y1=\"22\" x2=\"135\" y2=\"82\" />\n",
       "  <line x1=\"140\" y1=\"22\" x2=\"140\" y2=\"82\" />\n",
       "  <line x1=\"143\" y1=\"22\" x2=\"143\" y2=\"82\" />\n",
       "  <line x1=\"146\" y1=\"22\" x2=\"146\" y2=\"82\" />\n",
       "  <line x1=\"150\" y1=\"22\" x2=\"150\" y2=\"82\" />\n",
       "  <line x1=\"155\" y1=\"22\" x2=\"155\" y2=\"82\" />\n",
       "  <line x1=\"158\" y1=\"22\" x2=\"158\" y2=\"82\" />\n",
       "  <line x1=\"161\" y1=\"22\" x2=\"161\" y2=\"82\" />\n",
       "  <line x1=\"165\" y1=\"22\" x2=\"165\" y2=\"82\" />\n",
       "  <line x1=\"170\" y1=\"22\" x2=\"170\" y2=\"82\" />\n",
       "  <line x1=\"173\" y1=\"22\" x2=\"173\" y2=\"82\" />\n",
       "  <line x1=\"176\" y1=\"22\" x2=\"176\" y2=\"82\" />\n",
       "  <line x1=\"180\" y1=\"22\" x2=\"180\" y2=\"82\" />\n",
       "  <line x1=\"185\" y1=\"22\" x2=\"185\" y2=\"82\" />\n",
       "  <line x1=\"188\" y1=\"22\" x2=\"188\" y2=\"82\" />\n",
       "  <line x1=\"191\" y1=\"22\" x2=\"191\" y2=\"82\" />\n",
       "  <line x1=\"195\" y1=\"22\" x2=\"195\" y2=\"82\" />\n",
       "  <line x1=\"200\" y1=\"22\" x2=\"200\" y2=\"82\" />\n",
       "  <line x1=\"203\" y1=\"22\" x2=\"203\" y2=\"82\" />\n",
       "  <line x1=\"206\" y1=\"22\" x2=\"206\" y2=\"82\" />\n",
       "  <line x1=\"210\" y1=\"22\" x2=\"210\" y2=\"82\" />\n",
       "  <line x1=\"215\" y1=\"22\" x2=\"215\" y2=\"82\" />\n",
       "  <line x1=\"218\" y1=\"22\" x2=\"218\" y2=\"82\" />\n",
       "  <line x1=\"221\" y1=\"22\" x2=\"221\" y2=\"82\" />\n",
       "  <line x1=\"225\" y1=\"22\" x2=\"225\" y2=\"82\" />\n",
       "  <line x1=\"230\" y1=\"22\" x2=\"230\" y2=\"82\" />\n",
       "  <line x1=\"233\" y1=\"22\" x2=\"233\" y2=\"82\" />\n",
       "  <line x1=\"236\" y1=\"22\" x2=\"236\" y2=\"82\" />\n",
       "  <line x1=\"240\" y1=\"22\" x2=\"240\" y2=\"82\" />\n",
       "  <line x1=\"245\" y1=\"22\" x2=\"245\" y2=\"82\" style=\"stroke-width:2\" />\n",
       "\n",
       "  <!-- Colored Rectangle -->\n",
       "  <polygon points=\"125.15236113370017,22.15236113370016 245.15236113370017,22.15236113370016 245.15236113370017,82.31902780036683 125.15236113370017,82.31902780036683\" style=\"fill:#8B4903A0;stroke-width:0\"/>\n",
       "\n",
       "  <!-- Text -->\n",
       "  <text x=\"185.152361\" y=\"102.319028\" font-size=\"1.0rem\" font-weight=\"100\" text-anchor=\"middle\" >720</text>\n",
       "  <text x=\"265.152361\" y=\"52.235694\" font-size=\"1.0rem\" font-weight=\"100\" text-anchor=\"middle\" transform=\"rotate(-90,265.152361,52.235694)\">361</text>\n",
       "  <text x=\"104.076181\" y=\"91.242847\" font-size=\"1.0rem\" font-weight=\"100\" text-anchor=\"middle\" transform=\"rotate(45,104.076181,91.242847)\">61</text>\n",
       "</svg>\n",
       "</td>\n",
       "</tr>\n",
       "</table></div></li><li class='xr-var-item'><div class='xr-var-name'><span>tp</span></div><div class='xr-var-dims'>(time, step, latitude, longitude)</div><div class='xr-var-dtype'>float32</div><div class='xr-var-preview xr-preview'>dask.array&lt;chunksize=(31, 61, 10, 10), meta=np.ndarray&gt;</div><input id='attrs-3e5a670e-b76a-4312-ad10-a64a8a06647b' class='xr-var-attrs-in' type='checkbox' ><label for='attrs-3e5a670e-b76a-4312-ad10-a64a8a06647b' title='Show/Hide attributes'><svg class='icon xr-icon-file-text2'><use xlink:href='#icon-file-text2'></use></svg></label><input id='data-85270c93-6fd6-4f4f-affd-edd48c6d5f53' class='xr-var-data-in' type='checkbox'><label for='data-85270c93-6fd6-4f4f-affd-edd48c6d5f53' title='Show/Hide data repr'><svg class='icon xr-icon-database'><use xlink:href='#icon-database'></use></svg></label><div class='xr-var-attrs'><dl class='xr-attrs'><dt><span>GRIB_paramId :</span></dt><dd>228228</dd><dt><span>GRIB_dataType :</span></dt><dd>cf</dd><dt><span>GRIB_numberOfPoints :</span></dt><dd>259920</dd><dt><span>GRIB_typeOfLevel :</span></dt><dd>surface</dd><dt><span>GRIB_stepUnits :</span></dt><dd>1</dd><dt><span>GRIB_stepType :</span></dt><dd>accum</dd><dt><span>GRIB_gridType :</span></dt><dd>regular_ll</dd><dt><span>GRIB_NV :</span></dt><dd>0</dd><dt><span>GRIB_Nx :</span></dt><dd>720</dd><dt><span>GRIB_Ny :</span></dt><dd>361</dd><dt><span>GRIB_cfName :</span></dt><dd>unknown</dd><dt><span>GRIB_cfVarName :</span></dt><dd>tp</dd><dt><span>GRIB_gridDefinitionDescription :</span></dt><dd>Latitude/longitude </dd><dt><span>GRIB_iDirectionIncrementInDegrees :</span></dt><dd>0.5</dd><dt><span>GRIB_iScansNegatively :</span></dt><dd>0</dd><dt><span>GRIB_jDirectionIncrementInDegrees :</span></dt><dd>0.5</dd><dt><span>GRIB_jPointsAreConsecutive :</span></dt><dd>0</dd><dt><span>GRIB_jScansPositively :</span></dt><dd>0</dd><dt><span>GRIB_latitudeOfFirstGridPointInDegrees :</span></dt><dd>90.0</dd><dt><span>GRIB_latitudeOfLastGridPointInDegrees :</span></dt><dd>-90.0</dd><dt><span>GRIB_longitudeOfFirstGridPointInDegrees :</span></dt><dd>0.0</dd><dt><span>GRIB_longitudeOfLastGridPointInDegrees :</span></dt><dd>359.5</dd><dt><span>GRIB_missingValue :</span></dt><dd>9999</dd><dt><span>GRIB_name :</span></dt><dd>Total Precipitation</dd><dt><span>GRIB_shortName :</span></dt><dd>tp</dd><dt><span>GRIB_totalNumber :</span></dt><dd>51</dd><dt><span>GRIB_units :</span></dt><dd>kg m**-2</dd><dt><span>long_name :</span></dt><dd>Total Precipitation</dd><dt><span>units :</span></dt><dd>kg m**-2</dd><dt><span>standard_name :</span></dt><dd>unknown</dd></dl></div><div class='xr-var-data'><table>\n",
       "<tr>\n",
       "<td>\n",
       "<table>\n",
       "  <thead>\n",
       "    <tr><td> </td><th> Array </th><th> Chunk </th></tr>\n",
       "  </thead>\n",
       "  <tbody>\n",
       "    <tr><th> Bytes </th><td> 1.83 GiB </td> <td> 738.67 kiB </td></tr>\n",
       "    <tr><th> Shape </th><td> (31, 61, 361, 720) </td> <td> (31, 61, 10, 10) </td></tr>\n",
       "    <tr><th> Count </th><td> 2665 Tasks </td><td> 2664 Chunks </td></tr>\n",
       "    <tr><th> Type </th><td> float32 </td><td> numpy.ndarray </td></tr>\n",
       "  </tbody>\n",
       "</table>\n",
       "</td>\n",
       "<td>\n",
       "<svg width=\"398\" height=\"132\" style=\"stroke:rgb(0,0,0);stroke-width:1\" >\n",
       "\n",
       "  <!-- Horizontal lines -->\n",
       "  <line x1=\"0\" y1=\"0\" x2=\"33\" y2=\"0\" style=\"stroke-width:2\" />\n",
       "  <line x1=\"0\" y1=\"25\" x2=\"33\" y2=\"25\" style=\"stroke-width:2\" />\n",
       "\n",
       "  <!-- Vertical lines -->\n",
       "  <line x1=\"0\" y1=\"0\" x2=\"0\" y2=\"25\" style=\"stroke-width:2\" />\n",
       "  <line x1=\"33\" y1=\"0\" x2=\"33\" y2=\"25\" style=\"stroke-width:2\" />\n",
       "\n",
       "  <!-- Colored Rectangle -->\n",
       "  <polygon points=\"0.0,0.0 33.58456194395117,0.0 33.58456194395117,25.412616514582485 0.0,25.412616514582485\" style=\"fill:#ECB172A0;stroke-width:0\"/>\n",
       "\n",
       "  <!-- Text -->\n",
       "  <text x=\"16.792281\" y=\"45.412617\" font-size=\"1.0rem\" font-weight=\"100\" text-anchor=\"middle\" >31</text>\n",
       "  <text x=\"53.584562\" y=\"12.706308\" font-size=\"1.0rem\" font-weight=\"100\" text-anchor=\"middle\" transform=\"rotate(0,53.584562,12.706308)\">1</text>\n",
       "\n",
       "\n",
       "  <!-- Horizontal lines -->\n",
       "  <line x1=\"103\" y1=\"0\" x2=\"125\" y2=\"22\" style=\"stroke-width:2\" />\n",
       "  <line x1=\"103\" y1=\"1\" x2=\"125\" y2=\"23\" />\n",
       "  <line x1=\"103\" y1=\"3\" x2=\"125\" y2=\"25\" />\n",
       "  <line x1=\"103\" y1=\"5\" x2=\"125\" y2=\"27\" />\n",
       "  <line x1=\"103\" y1=\"6\" x2=\"125\" y2=\"28\" />\n",
       "  <line x1=\"103\" y1=\"8\" x2=\"125\" y2=\"30\" />\n",
       "  <line x1=\"103\" y1=\"10\" x2=\"125\" y2=\"32\" />\n",
       "  <line x1=\"103\" y1=\"13\" x2=\"125\" y2=\"35\" />\n",
       "  <line x1=\"103\" y1=\"15\" x2=\"125\" y2=\"37\" />\n",
       "  <line x1=\"103\" y1=\"16\" x2=\"125\" y2=\"38\" />\n",
       "  <line x1=\"103\" y1=\"18\" x2=\"125\" y2=\"40\" />\n",
       "  <line x1=\"103\" y1=\"20\" x2=\"125\" y2=\"42\" />\n",
       "  <line x1=\"103\" y1=\"21\" x2=\"125\" y2=\"43\" />\n",
       "  <line x1=\"103\" y1=\"25\" x2=\"125\" y2=\"47\" />\n",
       "  <line x1=\"103\" y1=\"26\" x2=\"125\" y2=\"48\" />\n",
       "  <line x1=\"103\" y1=\"28\" x2=\"125\" y2=\"50\" />\n",
       "  <line x1=\"103\" y1=\"30\" x2=\"125\" y2=\"52\" />\n",
       "  <line x1=\"103\" y1=\"31\" x2=\"125\" y2=\"53\" />\n",
       "  <line x1=\"103\" y1=\"33\" x2=\"125\" y2=\"55\" />\n",
       "  <line x1=\"103\" y1=\"35\" x2=\"125\" y2=\"57\" />\n",
       "  <line x1=\"103\" y1=\"38\" x2=\"125\" y2=\"60\" />\n",
       "  <line x1=\"103\" y1=\"40\" x2=\"125\" y2=\"62\" />\n",
       "  <line x1=\"103\" y1=\"41\" x2=\"125\" y2=\"63\" />\n",
       "  <line x1=\"103\" y1=\"43\" x2=\"125\" y2=\"65\" />\n",
       "  <line x1=\"103\" y1=\"45\" x2=\"125\" y2=\"67\" />\n",
       "  <line x1=\"103\" y1=\"46\" x2=\"125\" y2=\"68\" />\n",
       "  <line x1=\"103\" y1=\"50\" x2=\"125\" y2=\"72\" />\n",
       "  <line x1=\"103\" y1=\"51\" x2=\"125\" y2=\"73\" />\n",
       "  <line x1=\"103\" y1=\"53\" x2=\"125\" y2=\"75\" />\n",
       "  <line x1=\"103\" y1=\"55\" x2=\"125\" y2=\"77\" />\n",
       "  <line x1=\"103\" y1=\"56\" x2=\"125\" y2=\"78\" />\n",
       "  <line x1=\"103\" y1=\"58\" x2=\"125\" y2=\"80\" />\n",
       "  <line x1=\"103\" y1=\"60\" x2=\"125\" y2=\"82\" style=\"stroke-width:2\" />\n",
       "\n",
       "  <!-- Vertical lines -->\n",
       "  <line x1=\"103\" y1=\"0\" x2=\"103\" y2=\"60\" style=\"stroke-width:2\" />\n",
       "  <line x1=\"125\" y1=\"22\" x2=\"125\" y2=\"82\" style=\"stroke-width:2\" />\n",
       "\n",
       "  <!-- Colored Rectangle -->\n",
       "  <polygon points=\"103.0,0.0 125.15236113370017,22.15236113370016 125.15236113370017,82.31902780036683 103.0,60.16666666666666\" style=\"fill:#8B4903A0;stroke-width:0\"/>\n",
       "\n",
       "  <!-- Horizontal lines -->\n",
       "  <line x1=\"103\" y1=\"0\" x2=\"223\" y2=\"0\" style=\"stroke-width:2\" />\n",
       "  <line x1=\"125\" y1=\"22\" x2=\"245\" y2=\"22\" style=\"stroke-width:2\" />\n",
       "\n",
       "  <!-- Vertical lines -->\n",
       "  <line x1=\"103\" y1=\"0\" x2=\"125\" y2=\"22\" style=\"stroke-width:2\" />\n",
       "  <line x1=\"106\" y1=\"0\" x2=\"128\" y2=\"22\" />\n",
       "  <line x1=\"109\" y1=\"0\" x2=\"131\" y2=\"22\" />\n",
       "  <line x1=\"113\" y1=\"0\" x2=\"135\" y2=\"22\" />\n",
       "  <line x1=\"118\" y1=\"0\" x2=\"140\" y2=\"22\" />\n",
       "  <line x1=\"121\" y1=\"0\" x2=\"143\" y2=\"22\" />\n",
       "  <line x1=\"124\" y1=\"0\" x2=\"146\" y2=\"22\" />\n",
       "  <line x1=\"128\" y1=\"0\" x2=\"150\" y2=\"22\" />\n",
       "  <line x1=\"133\" y1=\"0\" x2=\"155\" y2=\"22\" />\n",
       "  <line x1=\"136\" y1=\"0\" x2=\"158\" y2=\"22\" />\n",
       "  <line x1=\"139\" y1=\"0\" x2=\"161\" y2=\"22\" />\n",
       "  <line x1=\"143\" y1=\"0\" x2=\"165\" y2=\"22\" />\n",
       "  <line x1=\"148\" y1=\"0\" x2=\"170\" y2=\"22\" />\n",
       "  <line x1=\"151\" y1=\"0\" x2=\"173\" y2=\"22\" />\n",
       "  <line x1=\"154\" y1=\"0\" x2=\"176\" y2=\"22\" />\n",
       "  <line x1=\"158\" y1=\"0\" x2=\"180\" y2=\"22\" />\n",
       "  <line x1=\"163\" y1=\"0\" x2=\"185\" y2=\"22\" />\n",
       "  <line x1=\"166\" y1=\"0\" x2=\"188\" y2=\"22\" />\n",
       "  <line x1=\"169\" y1=\"0\" x2=\"191\" y2=\"22\" />\n",
       "  <line x1=\"173\" y1=\"0\" x2=\"195\" y2=\"22\" />\n",
       "  <line x1=\"178\" y1=\"0\" x2=\"200\" y2=\"22\" />\n",
       "  <line x1=\"181\" y1=\"0\" x2=\"203\" y2=\"22\" />\n",
       "  <line x1=\"184\" y1=\"0\" x2=\"206\" y2=\"22\" />\n",
       "  <line x1=\"188\" y1=\"0\" x2=\"210\" y2=\"22\" />\n",
       "  <line x1=\"193\" y1=\"0\" x2=\"215\" y2=\"22\" />\n",
       "  <line x1=\"196\" y1=\"0\" x2=\"218\" y2=\"22\" />\n",
       "  <line x1=\"199\" y1=\"0\" x2=\"221\" y2=\"22\" />\n",
       "  <line x1=\"203\" y1=\"0\" x2=\"225\" y2=\"22\" />\n",
       "  <line x1=\"208\" y1=\"0\" x2=\"230\" y2=\"22\" />\n",
       "  <line x1=\"211\" y1=\"0\" x2=\"233\" y2=\"22\" />\n",
       "  <line x1=\"214\" y1=\"0\" x2=\"236\" y2=\"22\" />\n",
       "  <line x1=\"218\" y1=\"0\" x2=\"240\" y2=\"22\" />\n",
       "  <line x1=\"223\" y1=\"0\" x2=\"245\" y2=\"22\" style=\"stroke-width:2\" />\n",
       "\n",
       "  <!-- Colored Rectangle -->\n",
       "  <polygon points=\"103.0,0.0 223.0,0.0 245.15236113370017,22.15236113370016 125.15236113370017,22.15236113370016\" style=\"fill:#8B4903A0;stroke-width:0\"/>\n",
       "\n",
       "  <!-- Horizontal lines -->\n",
       "  <line x1=\"125\" y1=\"22\" x2=\"245\" y2=\"22\" style=\"stroke-width:2\" />\n",
       "  <line x1=\"125\" y1=\"23\" x2=\"245\" y2=\"23\" />\n",
       "  <line x1=\"125\" y1=\"25\" x2=\"245\" y2=\"25\" />\n",
       "  <line x1=\"125\" y1=\"27\" x2=\"245\" y2=\"27\" />\n",
       "  <line x1=\"125\" y1=\"28\" x2=\"245\" y2=\"28\" />\n",
       "  <line x1=\"125\" y1=\"30\" x2=\"245\" y2=\"30\" />\n",
       "  <line x1=\"125\" y1=\"32\" x2=\"245\" y2=\"32\" />\n",
       "  <line x1=\"125\" y1=\"35\" x2=\"245\" y2=\"35\" />\n",
       "  <line x1=\"125\" y1=\"37\" x2=\"245\" y2=\"37\" />\n",
       "  <line x1=\"125\" y1=\"38\" x2=\"245\" y2=\"38\" />\n",
       "  <line x1=\"125\" y1=\"40\" x2=\"245\" y2=\"40\" />\n",
       "  <line x1=\"125\" y1=\"42\" x2=\"245\" y2=\"42\" />\n",
       "  <line x1=\"125\" y1=\"43\" x2=\"245\" y2=\"43\" />\n",
       "  <line x1=\"125\" y1=\"47\" x2=\"245\" y2=\"47\" />\n",
       "  <line x1=\"125\" y1=\"48\" x2=\"245\" y2=\"48\" />\n",
       "  <line x1=\"125\" y1=\"50\" x2=\"245\" y2=\"50\" />\n",
       "  <line x1=\"125\" y1=\"52\" x2=\"245\" y2=\"52\" />\n",
       "  <line x1=\"125\" y1=\"53\" x2=\"245\" y2=\"53\" />\n",
       "  <line x1=\"125\" y1=\"55\" x2=\"245\" y2=\"55\" />\n",
       "  <line x1=\"125\" y1=\"57\" x2=\"245\" y2=\"57\" />\n",
       "  <line x1=\"125\" y1=\"60\" x2=\"245\" y2=\"60\" />\n",
       "  <line x1=\"125\" y1=\"62\" x2=\"245\" y2=\"62\" />\n",
       "  <line x1=\"125\" y1=\"63\" x2=\"245\" y2=\"63\" />\n",
       "  <line x1=\"125\" y1=\"65\" x2=\"245\" y2=\"65\" />\n",
       "  <line x1=\"125\" y1=\"67\" x2=\"245\" y2=\"67\" />\n",
       "  <line x1=\"125\" y1=\"68\" x2=\"245\" y2=\"68\" />\n",
       "  <line x1=\"125\" y1=\"72\" x2=\"245\" y2=\"72\" />\n",
       "  <line x1=\"125\" y1=\"73\" x2=\"245\" y2=\"73\" />\n",
       "  <line x1=\"125\" y1=\"75\" x2=\"245\" y2=\"75\" />\n",
       "  <line x1=\"125\" y1=\"77\" x2=\"245\" y2=\"77\" />\n",
       "  <line x1=\"125\" y1=\"78\" x2=\"245\" y2=\"78\" />\n",
       "  <line x1=\"125\" y1=\"80\" x2=\"245\" y2=\"80\" />\n",
       "  <line x1=\"125\" y1=\"82\" x2=\"245\" y2=\"82\" style=\"stroke-width:2\" />\n",
       "\n",
       "  <!-- Vertical lines -->\n",
       "  <line x1=\"125\" y1=\"22\" x2=\"125\" y2=\"82\" style=\"stroke-width:2\" />\n",
       "  <line x1=\"128\" y1=\"22\" x2=\"128\" y2=\"82\" />\n",
       "  <line x1=\"131\" y1=\"22\" x2=\"131\" y2=\"82\" />\n",
       "  <line x1=\"135\" y1=\"22\" x2=\"135\" y2=\"82\" />\n",
       "  <line x1=\"140\" y1=\"22\" x2=\"140\" y2=\"82\" />\n",
       "  <line x1=\"143\" y1=\"22\" x2=\"143\" y2=\"82\" />\n",
       "  <line x1=\"146\" y1=\"22\" x2=\"146\" y2=\"82\" />\n",
       "  <line x1=\"150\" y1=\"22\" x2=\"150\" y2=\"82\" />\n",
       "  <line x1=\"155\" y1=\"22\" x2=\"155\" y2=\"82\" />\n",
       "  <line x1=\"158\" y1=\"22\" x2=\"158\" y2=\"82\" />\n",
       "  <line x1=\"161\" y1=\"22\" x2=\"161\" y2=\"82\" />\n",
       "  <line x1=\"165\" y1=\"22\" x2=\"165\" y2=\"82\" />\n",
       "  <line x1=\"170\" y1=\"22\" x2=\"170\" y2=\"82\" />\n",
       "  <line x1=\"173\" y1=\"22\" x2=\"173\" y2=\"82\" />\n",
       "  <line x1=\"176\" y1=\"22\" x2=\"176\" y2=\"82\" />\n",
       "  <line x1=\"180\" y1=\"22\" x2=\"180\" y2=\"82\" />\n",
       "  <line x1=\"185\" y1=\"22\" x2=\"185\" y2=\"82\" />\n",
       "  <line x1=\"188\" y1=\"22\" x2=\"188\" y2=\"82\" />\n",
       "  <line x1=\"191\" y1=\"22\" x2=\"191\" y2=\"82\" />\n",
       "  <line x1=\"195\" y1=\"22\" x2=\"195\" y2=\"82\" />\n",
       "  <line x1=\"200\" y1=\"22\" x2=\"200\" y2=\"82\" />\n",
       "  <line x1=\"203\" y1=\"22\" x2=\"203\" y2=\"82\" />\n",
       "  <line x1=\"206\" y1=\"22\" x2=\"206\" y2=\"82\" />\n",
       "  <line x1=\"210\" y1=\"22\" x2=\"210\" y2=\"82\" />\n",
       "  <line x1=\"215\" y1=\"22\" x2=\"215\" y2=\"82\" />\n",
       "  <line x1=\"218\" y1=\"22\" x2=\"218\" y2=\"82\" />\n",
       "  <line x1=\"221\" y1=\"22\" x2=\"221\" y2=\"82\" />\n",
       "  <line x1=\"225\" y1=\"22\" x2=\"225\" y2=\"82\" />\n",
       "  <line x1=\"230\" y1=\"22\" x2=\"230\" y2=\"82\" />\n",
       "  <line x1=\"233\" y1=\"22\" x2=\"233\" y2=\"82\" />\n",
       "  <line x1=\"236\" y1=\"22\" x2=\"236\" y2=\"82\" />\n",
       "  <line x1=\"240\" y1=\"22\" x2=\"240\" y2=\"82\" />\n",
       "  <line x1=\"245\" y1=\"22\" x2=\"245\" y2=\"82\" style=\"stroke-width:2\" />\n",
       "\n",
       "  <!-- Colored Rectangle -->\n",
       "  <polygon points=\"125.15236113370017,22.15236113370016 245.15236113370017,22.15236113370016 245.15236113370017,82.31902780036683 125.15236113370017,82.31902780036683\" style=\"fill:#8B4903A0;stroke-width:0\"/>\n",
       "\n",
       "  <!-- Text -->\n",
       "  <text x=\"185.152361\" y=\"102.319028\" font-size=\"1.0rem\" font-weight=\"100\" text-anchor=\"middle\" >720</text>\n",
       "  <text x=\"265.152361\" y=\"52.235694\" font-size=\"1.0rem\" font-weight=\"100\" text-anchor=\"middle\" transform=\"rotate(-90,265.152361,52.235694)\">361</text>\n",
       "  <text x=\"104.076181\" y=\"91.242847\" font-size=\"1.0rem\" font-weight=\"100\" text-anchor=\"middle\" transform=\"rotate(45,104.076181,91.242847)\">61</text>\n",
       "</svg>\n",
       "</td>\n",
       "</tr>\n",
       "</table></div></li></ul></div></li><li class='xr-section-item'><input id='section-66c8d07a-adc0-46a4-8500-70f7b6639ee9' class='xr-section-summary-in' type='checkbox'  checked><label for='section-66c8d07a-adc0-46a4-8500-70f7b6639ee9' class='xr-section-summary' >Attributes: <span>(7)</span></label><div class='xr-section-inline-details'></div><div class='xr-section-details'><dl class='xr-attrs'><dt><span>GRIB_edition :</span></dt><dd>2</dd><dt><span>GRIB_centre :</span></dt><dd>ecmf</dd><dt><span>GRIB_centreDescription :</span></dt><dd>European Centre for Medium-Range Weather Forecasts</dd><dt><span>GRIB_subCentre :</span></dt><dd>0</dd><dt><span>Conventions :</span></dt><dd>CF-1.7</dd><dt><span>institution :</span></dt><dd>European Centre for Medium-Range Weather Forecasts</dd><dt><span>history :</span></dt><dd>2021-07-18T22:22 GRIB to CDM+CF via cfgrib-0.9.9.0/ecCodes-2.22.1 with {&quot;source&quot;: &quot;2010-jan.grib&quot;, &quot;filter_by_keys&quot;: {}, &quot;encode_cf&quot;: [&quot;parameter&quot;, &quot;time&quot;, &quot;geography&quot;, &quot;vertical&quot;]}</dd></dl></div></li></ul></div></div>"
      ],
      "text/plain": [
       "<xarray.Dataset>\n",
       "Dimensions:            (latitude: 361, longitude: 720, step: 61, time: 31)\n",
       "Coordinates:\n",
       "    number             int64 ...\n",
       "  * time               (time) datetime64[ns] 2010-01-01 ... 2010-01-31\n",
       "  * step               (step) timedelta64[ns] 0 days 00:00:00 ... 15 days 00:...\n",
       "    heightAboveGround  float64 ...\n",
       "  * latitude           (latitude) float64 90.0 89.5 89.0 ... -89.0 -89.5 -90.0\n",
       "  * longitude          (longitude) float64 0.0 0.5 1.0 1.5 ... 358.5 359.0 359.5\n",
       "    valid_time         (time, step) datetime64[ns] dask.array<chunksize=(31, 61), meta=np.ndarray>\n",
       "    surface            float64 ...\n",
       "Data variables:\n",
       "    t2m                (time, step, latitude, longitude) float32 dask.array<chunksize=(31, 61, 10, 10), meta=np.ndarray>\n",
       "    tp                 (time, step, latitude, longitude) float32 dask.array<chunksize=(31, 61, 10, 10), meta=np.ndarray>\n",
       "Attributes:\n",
       "    GRIB_edition:            2\n",
       "    GRIB_centre:             ecmf\n",
       "    GRIB_centreDescription:  European Centre for Medium-Range Weather Forecasts\n",
       "    GRIB_subCentre:          0\n",
       "    Conventions:             CF-1.7\n",
       "    institution:             European Centre for Medium-Range Weather Forecasts\n",
       "    history:                 2021-07-18T22:22 GRIB to CDM+CF via cfgrib-0.9.9..."
      ]
     },
     "execution_count": 26,
     "metadata": {},
     "output_type": "execute_result"
    }
   ],
   "source": []
  },
  {
   "cell_type": "code",
   "execution_count": 36,
   "id": "8e8b59fc",
   "metadata": {},
   "outputs": [],
   "source": [
    "# get slices to write\n",
    "slices = dask.array.core.slices_from_chunks(dask.array.empty_like(ds.to_array()).chunks) # null, time, lat, lon"
   ]
  },
  {
   "cell_type": "code",
   "execution_count": 37,
   "id": "42adf121",
   "metadata": {},
   "outputs": [
    {
     "data": {
      "text/plain": [
       "(slice(0, 1, None),\n",
       " slice(0, 31, None),\n",
       " slice(0, 61, None),\n",
       " slice(0, 10, None),\n",
       " slice(0, 10, None))"
      ]
     },
     "execution_count": 37,
     "metadata": {},
     "output_type": "execute_result"
    }
   ],
   "source": [
    "slices[0]"
   ]
  },
  {
   "cell_type": "code",
   "execution_count": 31,
   "id": "992e8f12",
   "metadata": {},
   "outputs": [
    {
     "data": {
      "text/plain": [
       "5328"
      ]
     },
     "execution_count": 31,
     "metadata": {},
     "output_type": "execute_result"
    }
   ],
   "source": [
    "len(slices)"
   ]
  },
  {
   "cell_type": "code",
   "execution_count": 38,
   "id": "f67d2b10",
   "metadata": {},
   "outputs": [],
   "source": [
    "slices = [s for s in slices if s[3].stop!=361]"
   ]
  },
  {
   "cell_type": "code",
   "execution_count": 39,
   "id": "504fadc9",
   "metadata": {},
   "outputs": [
    {
     "data": {
      "text/plain": [
       "5184"
      ]
     },
     "execution_count": 39,
     "metadata": {},
     "output_type": "execute_result"
    }
   ],
   "source": [
    "len(slices)"
   ]
  },
  {
   "cell_type": "code",
   "execution_count": 40,
   "id": "7d473bab",
   "metadata": {},
   "outputs": [],
   "source": [
    "select_slice = slices[1000]"
   ]
  },
  {
   "cell_type": "code",
   "execution_count": 41,
   "id": "6a36a6db",
   "metadata": {},
   "outputs": [
    {
     "data": {
      "text/plain": [
       "(31, 61, 361, 720)"
      ]
     },
     "execution_count": 41,
     "metadata": {},
     "output_type": "execute_result"
    }
   ],
   "source": [
    "ds['tp'].shape"
   ]
  },
  {
   "cell_type": "code",
   "execution_count": 42,
   "id": "acc2ec76",
   "metadata": {},
   "outputs": [
    {
     "data": {
      "text/plain": [
       "(slice(0, 1, None),\n",
       " slice(0, 31, None),\n",
       " slice(0, 61, None),\n",
       " slice(130, 140, None),\n",
       " slice(640, 650, None))"
      ]
     },
     "execution_count": 42,
     "metadata": {},
     "output_type": "execute_result"
    }
   ],
   "source": [
    "select_slice"
   ]
  },
  {
   "cell_type": "code",
   "execution_count": 44,
   "id": "9963a760",
   "metadata": {},
   "outputs": [],
   "source": [
    "data = ds['tp'][select_slice[1], select_slice[2], select_slice[3], select_slice[4]].values"
   ]
  },
  {
   "cell_type": "code",
   "execution_count": 57,
   "id": "c1e9cf33",
   "metadata": {},
   "outputs": [
    {
     "data": {
      "text/plain": [
       "(10, 10, 31, 61)"
      ]
     },
     "execution_count": 57,
     "metadata": {},
     "output_type": "execute_result"
    }
   ],
   "source": [
    "np.transpose(data, [3,2,0,1]).shape"
   ]
  },
  {
   "cell_type": "code",
   "execution_count": 53,
   "id": "dfdfd81e",
   "metadata": {},
   "outputs": [],
   "source": [
    "store = gcsfs.GCSMap(root='oxeo-forecasts/ecmwf-tigge-15day')\n",
    "z = zarr.open(store)"
   ]
  },
  {
   "cell_type": "code",
   "execution_count": 62,
   "id": "50487550",
   "metadata": {},
   "outputs": [],
   "source": [
    "offset_slice = select_slice[1]\n",
    "step_slice = select_slice[2]\n",
    "lat_slice = select_slice[3]\n",
    "lon_slice = select_slice[4]"
   ]
  },
  {
   "cell_type": "code",
   "execution_count": 63,
   "id": "288b9862",
   "metadata": {},
   "outputs": [],
   "source": [
    "z['tp'][lon_slice, lat_slice, offset_slice, step_slice] = np.transpose(data, [3,2,0,1])"
   ]
  },
  {
   "cell_type": "code",
   "execution_count": 65,
   "id": "e6f0f81e",
   "metadata": {},
   "outputs": [],
   "source": [
    "import os"
   ]
  },
  {
   "cell_type": "code",
   "execution_count": 69,
   "id": "acff15f4",
   "metadata": {},
   "outputs": [],
   "source": [
    "year, month = os.path.splitext(os.path.split('home/2010_01.grib')[1])[0].split('_')"
   ]
  },
  {
   "cell_type": "code",
   "execution_count": 71,
   "id": "f5b3779a",
   "metadata": {},
   "outputs": [
    {
     "data": {
      "text/plain": [
       "('2010', '01')"
      ]
     },
     "execution_count": 71,
     "metadata": {},
     "output_type": "execute_result"
    }
   ],
   "source": [
    "year,month"
   ]
  },
  {
   "cell_type": "code",
   "execution_count": 73,
   "id": "4a4fc074",
   "metadata": {},
   "outputs": [
    {
     "data": {
      "text/plain": [
       "'01'"
      ]
     },
     "execution_count": 73,
     "metadata": {},
     "output_type": "execute_result"
    }
   ],
   "source": [
    "f'{int(month):02d}'"
   ]
  },
  {
   "cell_type": "code",
   "execution_count": 58,
   "id": "8c041c9e",
   "metadata": {},
   "outputs": [],
   "source": [
    "from datetime import datetime as dt"
   ]
  },
  {
   "cell_type": "code",
   "execution_count": null,
   "id": "3166e16e",
   "metadata": {},
   "outputs": [],
   "source": []
  },
  {
   "cell_type": "code",
   "execution_count": 61,
   "id": "6154dc70",
   "metadata": {},
   "outputs": [
    {
     "data": {
      "text/plain": [
       "722"
      ]
     },
     "execution_count": 61,
     "metadata": {},
     "output_type": "execute_result"
    }
   ],
   "source": [
    "(dt(year=2018, month=5, day=1) - dt(2016,5,9)).days"
   ]
  },
  {
   "cell_type": "code",
   "execution_count": 27,
   "id": "6e28ad4e",
   "metadata": {},
   "outputs": [
    {
     "data": {
      "text/plain": [
       "(31, 61, 361, 720)"
      ]
     },
     "execution_count": 27,
     "metadata": {},
     "output_type": "execute_result"
    }
   ],
   "source": [
    "ds['tp'].shape # time, step, lat, lon"
   ]
  },
  {
   "cell_type": "code",
   "execution_count": 22,
   "id": "c358b96f",
   "metadata": {},
   "outputs": [
    {
     "data": {
      "text/plain": [
       "(31, 61, 361, 720)"
      ]
     },
     "execution_count": 22,
     "metadata": {},
     "output_type": "execute_result"
    }
   ],
   "source": [
    "ds['tp'].shape"
   ]
  },
  {
   "cell_type": "code",
   "execution_count": 7,
   "id": "7e0e7fe2",
   "metadata": {},
   "outputs": [],
   "source": [
    "import pandas as pd"
   ]
  },
  {
   "cell_type": "code",
   "execution_count": null,
   "id": "a5bba0e2",
   "metadata": {},
   "outputs": [],
   "source": [
    "\n",
    "    \n",
    "# get slices to write\n",
    "slices = dask.array.core.slices_from_chunks(dask.array.empty_like(ds.to_array()).chunks) # null, time, lat, lon"
   ]
  },
  {
   "cell_type": "code",
   "execution_count": null,
   "id": "bcfd3897",
   "metadata": {},
   "outputs": [],
   "source": []
  }
 ],
 "metadata": {
  "environment": {
   "name": "pytorch-gpu.1-9.m75",
   "type": "gcloud",
   "uri": "gcr.io/deeplearning-platform-release/pytorch-gpu.1-9:m75"
  },
  "kernelspec": {
   "display_name": "Python [conda env:era5]",
   "language": "python",
   "name": "conda-env-era5-py"
  },
  "language_info": {
   "codemirror_mode": {
    "name": "ipython",
    "version": 3
   },
   "file_extension": ".py",
   "mimetype": "text/x-python",
   "name": "python",
   "nbconvert_exporter": "python",
   "pygments_lexer": "ipython3",
   "version": "3.8.10"
  }
 },
 "nbformat": 4,
 "nbformat_minor": 5
}
