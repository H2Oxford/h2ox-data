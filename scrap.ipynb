{
 "cells": [
  {
   "cell_type": "markdown",
   "id": "b27759af",
   "metadata": {},
   "source": [
    "### Approach\n",
    "- download some nc era5 data\n",
    "- chunk it in zarr and move to a bucket\n",
    "- instantiate a compute cluster\n",
    "- reduce the data using the compute cluster"
   ]
  },
  {
   "cell_type": "markdown",
   "id": "288199ac",
   "metadata": {},
   "source": [
    "## Download some era5 data as nc!"
   ]
  },
  {
   "cell_type": "markdown",
   "id": "1a1dbe64",
   "metadata": {},
   "source": [
    "**api setup**\n",
    "\n",
    "`pip install cdsapi`\n",
    "\n",
    "Log in and copy your api key from https://cds.climate.copernicus.eu/api-how-to\n",
    "\n",
    "write to `$HOME/.csdapirc`:\n",
    "\n",
    "    nano $HOME/.csdapirc\n",
    "    ctrl-v, ctrl-x, shift-Y, enter"
   ]
  },
  {
   "cell_type": "code",
   "execution_count": null,
   "id": "1e4d96c7",
   "metadata": {},
   "outputs": [],
   "source": [
    "import cdsapi\n",
    "c = cdsapi.Client()"
   ]
  },
  {
   "cell_type": "code",
   "execution_count": null,
   "id": "52ad4762",
   "metadata": {},
   "outputs": [],
   "source": [
    "c.retrieve(\n",
    "    'reanalysis-era5-land',\n",
    "    {\n",
    "        'format': 'netcdf',\n",
    "        'variable': '2m_temperature',\n",
    "        'year': '1981',\n",
    "        'month': '01',\n",
    "        'day': [\n",
    "            '01', '02', '03',\n",
    "            '04', '05', '06',\n",
    "            '07', '08', '09',\n",
    "            '10', '11', '12',\n",
    "            '13', '14', '15',\n",
    "            '16', '17', '18',\n",
    "            '19', '20', '21',\n",
    "            '22', '23', '24',\n",
    "            '25', '26', '27',\n",
    "            '28', '29', '30',\n",
    "            '31',\n",
    "        ],\n",
    "        'time': [\n",
    "            '00:00', '01:00', '02:00',\n",
    "            '03:00', '04:00', '05:00',\n",
    "            '06:00', '07:00', '08:00',\n",
    "            '09:00', '10:00', '11:00',\n",
    "            '12:00', '13:00', '14:00',\n",
    "            '15:00', '16:00', '17:00',\n",
    "            '18:00', '19:00', '20:00',\n",
    "            '21:00', '22:00', '23:00',\n",
    "        ],\n",
    "    },\n",
    "    '1981_01_2t.nc')"
   ]
  },
  {
   "cell_type": "code",
   "execution_count": null,
   "id": "2e4cab41",
   "metadata": {},
   "outputs": [],
   "source": [
    "import zarr"
   ]
  },
  {
   "cell_type": "code",
   "execution_count": null,
   "id": "4291129c",
   "metadata": {},
   "outputs": [],
   "source": [
    "import xarray as xr"
   ]
  },
  {
   "cell_type": "code",
   "execution_count": null,
   "id": "b3b3db1d",
   "metadata": {},
   "outputs": [],
   "source": [
    "import gcsfs"
   ]
  },
  {
   "cell_type": "code",
   "execution_count": null,
   "id": "f7c47913",
   "metadata": {},
   "outputs": [],
   "source": [
    "fs = gcsfs.GCSFileSystem(project='oxeo-main')"
   ]
  },
  {
   "cell_type": "code",
   "execution_count": null,
   "id": "53038b26",
   "metadata": {},
   "outputs": [],
   "source": [
    "fs_gcsfs.GCSFS(bucket_name: str, root_path: str = None, c"
   ]
  },
  {
   "cell_type": "code",
   "execution_count": null,
   "id": "58de3b30",
   "metadata": {},
   "outputs": [],
   "source": [
    "help(gcsfs.GCSMap)"
   ]
  },
  {
   "cell_type": "code",
   "execution_count": null,
   "id": "0f67cab9",
   "metadata": {},
   "outputs": [],
   "source": [
    "store = gcsfs.GCSMap(root='pangeo-era5/reanalysis/spatial-analysis')"
   ]
  },
  {
   "cell_type": "code",
   "execution_count": null,
   "id": "2b64f48f",
   "metadata": {},
   "outputs": [],
   "source": [
    "root = zarr.group(store=store)"
   ]
  },
  {
   "cell_type": "code",
   "execution_count": null,
   "id": "09bb29ac",
   "metadata": {},
   "outputs": [],
   "source": [
    "z = root['t2m']"
   ]
  },
  {
   "cell_type": "code",
   "execution_count": null,
   "id": "03b736e0",
   "metadata": {},
   "outputs": [],
   "source": [
    "ds = xr.open_zarr(store)"
   ]
  },
  {
   "cell_type": "code",
   "execution_count": null,
   "id": "a1bb7118",
   "metadata": {},
   "outputs": [],
   "source": [
    "ds.asn.chunks"
   ]
  },
  {
   "cell_type": "code",
   "execution_count": null,
   "id": "977150ed",
   "metadata": {},
   "outputs": [],
   "source": [
    "ds"
   ]
  },
  {
   "cell_type": "code",
   "execution_count": null,
   "id": "f6d63d44",
   "metadata": {},
   "outputs": [],
   "source": [
    "store = s3fs.S3Map(root='zarr-demo/store', s3=s3, check=False)"
   ]
  },
  {
   "cell_type": "code",
   "execution_count": null,
   "id": "41f53668",
   "metadata": {},
   "outputs": [],
   "source": [
    "root = zarr.group(store=store)\n",
    ">>> z = root['foo/bar/baz']"
   ]
  },
  {
   "cell_type": "code",
   "execution_count": null,
   "id": "9254003b",
   "metadata": {},
   "outputs": [],
   "source": [
    ">>> import s3fs\n",
    ">>> import zarr\n",
    ">>> s3 = s3fs.S3FileSystem(anon=True, client_kwargs=dict(region_name='eu-west-2'))\n",
    ">>> store = s3fs.S3Map(root='zarr-demo/store', s3=s3, check=False)\n",
    ">>> root = zarr.group(store=store)\n",
    ">>> z = root['foo/bar/baz']\n",
    ">>> z\n",
    "<zarr.core.Array '/foo/bar/baz' (21,) |S1>\n",
    ">>> z.info"
   ]
  },
  {
   "cell_type": "code",
   "execution_count": null,
   "id": "6b5ef482",
   "metadata": {},
   "outputs": [],
   "source": [
    "ds.info"
   ]
  },
  {
   "cell_type": "code",
   "execution_count": null,
   "id": "54e13551",
   "metadata": {},
   "outputs": [],
   "source": [
    "ds_local = xr.open_dataset('./1981_01_2t.nc',chunks={'time':24})# chunks={'time':743,'latitude':100,'longitude':100})"
   ]
  },
  {
   "cell_type": "code",
   "execution_count": null,
   "id": "f95919d0",
   "metadata": {},
   "outputs": [],
   "source": [
    "import os"
   ]
  },
  {
   "cell_type": "code",
   "execution_count": null,
   "id": "626f4bfe",
   "metadata": {},
   "outputs": [],
   "source": [
    "ds_local"
   ]
  },
  {
   "cell_type": "code",
   "execution_count": null,
   "id": "57872265",
   "metadata": {},
   "outputs": [],
   "source": [
    "os.path.join(os.getcwd(),'example')"
   ]
  },
  {
   "cell_type": "code",
   "execution_count": null,
   "id": "2b9e710a",
   "metadata": {},
   "outputs": [],
   "source": [
    "ds_local.to_zarr(store='/home/jupyter/era5-gcp/ex.zarr')"
   ]
  },
  {
   "cell_type": "code",
   "execution_count": null,
   "id": "90fee592",
   "metadata": {},
   "outputs": [],
   "source": [
    "9"
   ]
  },
  {
   "cell_type": "code",
   "execution_count": null,
   "id": "51f73942",
   "metadata": {},
   "outputs": [],
   "source": []
  }
 ],
 "metadata": {
  "environment": {
   "name": "common-cpu.m71",
   "type": "gcloud",
   "uri": "gcr.io/deeplearning-platform-release/base-cpu:m71"
  },
  "kernelspec": {
   "display_name": "Python 3",
   "language": "python",
   "name": "python3"
  },
  "language_info": {
   "codemirror_mode": {
    "name": "ipython",
    "version": 3
   },
   "file_extension": ".py",
   "mimetype": "text/x-python",
   "name": "python",
   "nbconvert_exporter": "python",
   "pygments_lexer": "ipython3",
   "version": "3.7.10"
  }
 },
 "nbformat": 4,
 "nbformat_minor": 5
}
